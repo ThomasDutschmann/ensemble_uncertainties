{
 "cells": [
  {
   "cell_type": "markdown",
   "id": "ad59498a-2b5a-4d39-ba79-c1a9922c455e",
   "metadata": {},
   "source": [
    "# Examine Uncertainty Performance Results for all Combinations (e.g. Rankings)"
   ]
  },
  {
   "cell_type": "markdown",
   "id": "047dc3ca-1f09-44fc-b3f1-3b55d6da4cd6",
   "metadata": {},
   "source": [
    "<hr/>"
   ]
  },
  {
   "cell_type": "markdown",
   "id": "123b4edb-1d9f-4cd2-9c31-172c7c9c6dc4",
   "metadata": {},
   "source": [
    "#### Imports"
   ]
  },
  {
   "cell_type": "code",
   "execution_count": 1,
   "id": "70ad2c91-6de8-4dc5-a1c4-6105f6e6e42b",
   "metadata": {},
   "outputs": [],
   "source": [
    "import collections\n",
    "\n",
    "import matplotlib as mpl\n",
    "import matplotlib.pyplot as plt\n",
    "import numpy as np\n",
    "import pandas as pd"
   ]
  },
  {
   "cell_type": "markdown",
   "id": "45cb036d-b114-472b-aec3-282ef63e5aeb",
   "metadata": {},
   "source": [
    "#### Constants"
   ]
  },
  {
   "cell_type": "code",
   "execution_count": 2,
   "id": "c7443dd9-9f98-461a-8ff5-1683fa5f3f14",
   "metadata": {},
   "outputs": [],
   "source": [
    "DATA_FOLDER = '../../../data/generated_by_notebooks/'\n",
    "PLOT_FOLDER = './plots/'"
   ]
  },
  {
   "cell_type": "markdown",
   "id": "87728c3d-c3d6-4d54-b73e-5567f4f3210b",
   "metadata": {},
   "source": [
    "#### Settings"
   ]
  },
  {
   "cell_type": "code",
   "execution_count": 3,
   "id": "d47817bd-1261-44bc-bf48-d431d3ccea73",
   "metadata": {},
   "outputs": [],
   "source": [
    "mpl.rcParams['figure.dpi'] = 200\n",
    "\n",
    "algorithms = ['rf', 'xgb', 'svm_rbf', 'shallow', 'dropout']\n",
    "algorithm_names = ['RF', 'XGB', 'SVM', 'Shallow', 'Deep']\n",
    "algorithm_to_name = dict(zip(algorithms, algorithm_names))\n",
    "\n",
    "descriptors = ['maccs', 'ecfc', 'rdkit', 'cddd']\n",
    "descriptor_names = ['MACCS', 'MFC', 'RDKit', 'CDDD']\n",
    "descriptor_to_name = dict(zip(descriptors, descriptor_names))\n",
    "\n",
    "# Names of the datasets that were already run\n",
    "dataset_names = [\n",
    "    'tetrahymena',\n",
    "    'freesolv',\n",
    "    'esol',\n",
    "    'MMP2',\n",
    "    'IL4',\n",
    "    'F7',\n",
    "    'O60674',\n",
    "    'O14965',\n",
    "    'P03372',\n",
    "    'P04150',\n",
    "    'P06401',\n",
    "    'P11229',\n",
    "    'P12931',\n",
    "    'P16581',\n",
    "    'P17252',\n",
    "    'P18089',\n",
    "    'P19327',\n",
    "    'P21554',\n",
    "    'P24530',\n",
    "    'P25929',\n",
    "    'P28335',\n",
    "    'P28482',\n",
    "    'P35968',\n",
    "    'P41594',\n",
    "    'P42345',\n",
    "    'P47871',\n",
    "    'P49146',\n",
    "    'P61169',\n",
    "    'Q05397',\n",
    "    'Q16602',\n",
    "    'P24941',\n",
    "    'Q92731'\n",
    "]"
   ]
  },
  {
   "cell_type": "markdown",
   "id": "f3e0b6d9-426c-4d83-b114-4a39be759ac0",
   "metadata": {},
   "source": [
    "#### Functions"
   ]
  },
  {
   "cell_type": "code",
   "execution_count": 4,
   "id": "3d6852f6-cca8-4952-89c3-c0400b4da29b",
   "metadata": {},
   "outputs": [],
   "source": [
    "def load_evaluation_matrix(name, evaluation='predictive', to_matrix=True):\n",
    "    \"\"\"Loads performance table for a single dataset.\"\"\"\n",
    "    path = f'{DATA_FOLDER}/{evaluation}_performances/{name}.csv'\n",
    "    df = pd.read_csv(path, sep=';').set_index('descriptor')\n",
    "    if to_matrix:\n",
    "        matrix = df.to_numpy()\n",
    "        return matrix\n",
    "    else:\n",
    "        return df\n",
    "    \n",
    "    \n",
    "def find_all_below_or_above(tables, threshold, above=True, explicit=False):\n",
    "    \"\"\"Finds and reports all combinations above or below a given threshold.\"\"\"\n",
    "    def hit(value):\n",
    "        if above:\n",
    "            return value >= threshold\n",
    "        else:\n",
    "            return value <= threshold\n",
    "    external_hit_counter = 0\n",
    "    maximum_hit_counter = 0\n",
    "    max_hits = len(descriptor_names) * len(algorithm_names)\n",
    "    print('ANY | ALL | DESCRIPTION')\n",
    "    print('---------------------------')\n",
    "    for name in dataset_names:\n",
    "        internal_hit_counter = 0\n",
    "        exceptions = list()\n",
    "        for i, descriptor in enumerate(descriptor_names):\n",
    "            for j, algorithm in enumerate(algorithm_names):\n",
    "                val = tables[name][i][j]\n",
    "                if hit(val):\n",
    "                    if explicit:\n",
    "                        print(f'{dataset_name} {descriptor} {algorithm}: {val}')\n",
    "                    internal_hit_counter += 1\n",
    "                else:\n",
    "                    exceptions.append(f'{descriptor}, {algorithm}')\n",
    "        if internal_hit_counter > 0:\n",
    "            indicator = ' X  | '\n",
    "            external_hit_counter += 1\n",
    "        else:\n",
    "            indicator = '    | '\n",
    "        if internal_hit_counter == max_hits:\n",
    "            indicator += ' X  |'\n",
    "            maximum_hit_counter += 1\n",
    "        else:\n",
    "            indicator += '    |'\n",
    "        if internal_hit_counter == max_hits - 1:\n",
    "            print(f'{indicator} {name}: {internal_hit_counter}, exception: {exceptions[0]}')\n",
    "        else:\n",
    "            print(f'{indicator} {name}: {internal_hit_counter}')\n",
    "        if explicit:\n",
    "            print()\n",
    "    print()\n",
    "    print(f'{external_hit_counter} for any.')\n",
    "    print(f'{maximum_hit_counter} for all.')\n",
    "    \n",
    "\n",
    "# Copied from\n",
    "# https://matplotlib.org/3.5.0/gallery/images_contours_and_fields/image_annotated_heatmap.html\n",
    "# then changed.\n",
    "\n",
    "def heatmap(data, row_labels, col_labels, ax=None,\n",
    "            cbar_kw={}, cbarlabel=\"\", **kwargs):\n",
    "    \"\"\"\n",
    "    Create a heatmap from a numpy array and two lists of labels.\n",
    "\n",
    "    Parameters\n",
    "    ----------\n",
    "    data\n",
    "        A 2D numpy array of shape (M, N).\n",
    "    row_labels\n",
    "        A list or array of length M with the labels for the rows.\n",
    "    col_labels\n",
    "        A list or array of length N with the labels for the columns.\n",
    "    ax\n",
    "        A `matplotlib.axes.Axes` instance to which the heatmap is plotted.  If\n",
    "        not provided, use current axes or create a new one.  Optional.\n",
    "    cbar_kw\n",
    "        A dictionary with arguments to `matplotlib.Figure.colorbar`.  Optional.\n",
    "    cbarlabel\n",
    "        The label for the colorbar.  Optional.\n",
    "    **kwargs\n",
    "        All other arguments are forwarded to `imshow`.\n",
    "    \"\"\"\n",
    "\n",
    "    if not ax:\n",
    "        ax = plt.gca()\n",
    "\n",
    "    # Plot the heatmap\n",
    "    im = ax.imshow(data, **kwargs)\n",
    "\n",
    "    # Create colorbar\n",
    "    #cbar = ax.figure.colorbar(im, ax=ax, **cbar_kw)\n",
    "    #cbar.ax.set_ylabel(cbarlabel, rotation=-90, va=\"bottom\")\n",
    "\n",
    "    # Show all ticks and label them with the respective list entries.\n",
    "    ax.set_xticks(np.arange(data.shape[1]))\n",
    "    ax.set_xticklabels(col_labels, size=7)\n",
    "    ax.set_yticks(np.arange(data.shape[0]))\n",
    "    ax.set_yticklabels(row_labels, size=7)\n",
    "\n",
    "    # Let the horizontal axes labeling appear on top.\n",
    "    #ax.tick_params(top=False, bottom=False, left=False,\n",
    "    #               labeltop=True, labelbottom=False)\n",
    "    ax.tick_params(top=False, bottom=False, left=False,\n",
    "                   labeltop=True, labelbottom=False)\n",
    "    ax.tick_params(axis=\"y\", pad=-2.)\n",
    "    ax.tick_params(axis=\"x\", pad=-3.)\n",
    "    # Rotate the tick labels and set their alignment.\n",
    "    plt.setp(ax.get_xticklabels(), ha=\"center\",\n",
    "             rotation_mode=\"default\")\n",
    "    plt.setp(ax.get_yticklabels(), rotation=0, ha=\"right\",\n",
    "            rotation_mode='anchor')\n",
    "\n",
    "    # Turn spines off and create white grid.\n",
    "    #ax.spines[:].set_visible(False)\n",
    "\n",
    "    ax.set_xticks(np.arange(data.shape[1]), minor=True)\n",
    "    ax.set_yticks(np.arange(data.shape[0]), minor=True)\n",
    "\n",
    "    #return im, cbar\n",
    "    return im\n",
    "\n",
    "\n",
    "def annotate_heatmap(im, data=None, valfmt=\"{x:.2f}\",\n",
    "                     textcolors=(\"black\", \"white\"),\n",
    "                     threshold=None, inverse=False, underlining=False, **textkw):\n",
    "    \"\"\"\n",
    "    A function to annotate a heatmap.\n",
    "\n",
    "    Parameters\n",
    "    ----------\n",
    "    im\n",
    "        The AxesImage to be labeled.\n",
    "    data\n",
    "        Data used to annotate.  If None, the image's data is used.  Optional.\n",
    "    valfmt\n",
    "        The format of the annotations inside the heatmap.  This should either\n",
    "        use the string format method, e.g. \"$ {x:.2f}\", or be a\n",
    "        `matplotlib.ticker.Formatter`.  Optional.\n",
    "    textcolors\n",
    "        A pair of colors.  The first is used for values below a threshold,\n",
    "        the second for those above.  Optional.\n",
    "    threshold\n",
    "        Value in data units according to which the colors from textcolors are\n",
    "        applied.  If None (the default) uses the middle of the colormap as\n",
    "        separation.  Optional.\n",
    "    **kwargs\n",
    "        All other arguments are forwarded to each call to `text` used to create\n",
    "        the text labels.\n",
    "    \"\"\"\n",
    "\n",
    "    if not isinstance(data, (list, np.ndarray)):\n",
    "        data = im.get_array()\n",
    "\n",
    "    # Normalize the threshold to the images color range.\n",
    "    if threshold is not None:\n",
    "        threshold = im.norm(threshold)\n",
    "    else:\n",
    "        threshold = im.norm(data.max())/2.\n",
    "\n",
    "    # Set default alignment to center, but allow it to be\n",
    "    # overwritten by textkw.\n",
    "    kw = dict(horizontalalignment=\"center\",\n",
    "              verticalalignment=\"center\")\n",
    "    kw.update(textkw)\n",
    "\n",
    "    # Get the formatter in case a string is supplied\n",
    "    if isinstance(valfmt, str):\n",
    "        valfmt = mpl.ticker.StrMethodFormatter(valfmt)\n",
    "        \n",
    "    # Added: Underline best performing value\n",
    "    best_i, best_j = np.where(data==data.max())\n",
    "    best_i, best_j = best_i[0], best_j[0]\n",
    "    mykwargs = {'size': 9, 'ha': 'center', 'va': 'center'}\n",
    "\n",
    "    # Loop over the data and create a `Text` for each \"pixel\".\n",
    "    # Change the text's color depending on the data.\n",
    "    texts = []\n",
    "    for i in range(data.shape[0]):\n",
    "        for j in range(data.shape[1]):\n",
    "            # Original:\n",
    "            #kw.update(color=textcolors[int(im.norm(data[i, j]) > threshold)])\n",
    "            # Changed:\n",
    "            string = valfmt(data[i, j], None)\n",
    "            if inverse:\n",
    "                col = textcolors[int(im.norm(data[i, j]) > threshold)]\n",
    "            else:\n",
    "                col = textcolors[int(im.norm(data[i, j]) < threshold)]\n",
    "            if i == best_i and j == best_j and underlining:\n",
    "                text = im.axes.text(j, i, string, weight='bold', color=col, **mykwargs)\n",
    "                underline = ''.join(['_' for char in range(len(string))])\n",
    "                line = im.axes.text(j, i, underline, weight='bold', color=col, **mykwargs)\n",
    "                texts.append(text)\n",
    "                texts.append(line)\n",
    "            else:\n",
    "                text = im.axes.text(j, i, string, color=col, **mykwargs)\n",
    "                texts.append(text)\n",
    "            #kw.update(color=textcolors[int(im.norm(data[i, j]) < threshold)])\n",
    "    return texts"
   ]
  },
  {
   "cell_type": "markdown",
   "id": "3abfb8fb-4720-48e9-be6d-b9bc192dfbcf",
   "metadata": {},
   "source": [
    "<hr/>"
   ]
  },
  {
   "cell_type": "markdown",
   "id": "be5d7012-8c2e-4743-a241-c3e3deb3b049",
   "metadata": {},
   "source": [
    "#### Load data"
   ]
  },
  {
   "cell_type": "code",
   "execution_count": 5,
   "id": "34ee93bb-dcef-4123-aa99-23598c03a6f8",
   "metadata": {},
   "outputs": [],
   "source": [
    "performances = dict()\n",
    "\n",
    "for dataset_name in dataset_names:\n",
    "    df = load_evaluation_matrix(dataset_name, evaluation='uncertainty')\n",
    "    performances[dataset_name] = df"
   ]
  },
  {
   "cell_type": "markdown",
   "id": "8320ca30-e79a-41de-ac26-6d8a19d040d2",
   "metadata": {},
   "source": [
    "<hr/>"
   ]
  },
  {
   "cell_type": "markdown",
   "id": "22ff53db-e743-43e4-8c85-64fd0555a718",
   "metadata": {},
   "source": [
    "### Evaluate"
   ]
  },
  {
   "cell_type": "markdown",
   "id": "19f77841-4e3d-4ca8-b32b-6c2eb5552011",
   "metadata": {},
   "source": [
    "#### Inspect distribution"
   ]
  },
  {
   "cell_type": "code",
   "execution_count": 6,
   "id": "0f62df38-00f8-4673-8c34-8782a10de397",
   "metadata": {},
   "outputs": [
    {
     "data": {
      "image/png": "[encoded data removed]",
      "text/plain": [
       "<Figure size 1200x800 with 1 Axes>"
      ]
     },
     "metadata": {
      "needs_background": "light"
     },
     "output_type": "display_data"
    }
   ],
   "source": [
    "all_values_unraveled = list()\n",
    "\n",
    "for dataset_name in dataset_names:\n",
    "    for value in performances[dataset_name].reshape(-1):\n",
    "        all_values_unraveled.append(value)\n",
    "\n",
    "plt.hist(all_values_unraveled, bins=100)\n",
    "plt.show()"
   ]
  },
  {
   "cell_type": "code",
   "execution_count": 7,
   "id": "6386dcc1-2a83-4e5f-a409-cbcabfcfddea",
   "metadata": {},
   "outputs": [
    {
     "name": "stdout",
     "output_type": "stream",
     "text": [
      "0.3396102217633631\n"
     ]
    }
   ],
   "source": [
    "med = np.median(all_values_unraveled)\n",
    "print(med)"
   ]
  },
  {
   "cell_type": "markdown",
   "id": "93fee7a9-6666-49eb-b10f-f8bd3a6ba06a",
   "metadata": {},
   "source": [
    "#### $\\rho$ above/below given threshold"
   ]
  },
  {
   "cell_type": "code",
   "execution_count": 8,
   "id": "8e03ea7a-5786-4be1-9ca6-99d30547a340",
   "metadata": {
    "tags": []
   },
   "outputs": [
    {
     "name": "stdout",
     "output_type": "stream",
     "text": [
      "ANY | ALL | DESCRIPTION\n",
      "---------------------------\n",
      " X  |     | tetrahymena: 18\n",
      " X  |     | freesolv: 18\n",
      " X  |     | esol: 12\n",
      " X  |     | MMP2: 7\n",
      " X  |     | IL4: 1\n",
      " X  |     | F7: 3\n",
      " X  |     | O60674: 1\n",
      " X  |     | O14965: 17\n",
      " X  |     | P03372: 11\n",
      " X  |     | P04150: 6\n",
      " X  |     | P06401: 15\n",
      " X  |     | P11229: 18\n",
      " X  |     | P12931: 7\n",
      "    |     | P16581: 0\n",
      " X  |     | P17252: 16\n",
      " X  |     | P18089: 3\n",
      " X  |     | P19327: 12\n",
      " X  |     | P21554: 10\n",
      " X  |     | P24530: 3\n",
      " X  |     | P25929: 19, exception: RDKit, Shallow\n",
      " X  |     | P28335: 10\n",
      " X  |  X  | P28482: 20\n",
      " X  |     | P35968: 2\n",
      " X  |     | P41594: 15\n",
      " X  |     | P42345: 15\n",
      " X  |     | P47871: 6\n",
      " X  |     | P49146: 12\n",
      " X  |     | P61169: 17\n",
      " X  |     | Q05397: 7\n",
      " X  |     | Q16602: 1\n",
      " X  |     | P24941: 14\n",
      " X  |     | Q92731: 4\n",
      "\n",
      "31 for any.\n",
      "1 for all.\n"
     ]
    }
   ],
   "source": [
    "find_all_below_or_above(performances, med)"
   ]
  },
  {
   "cell_type": "code",
   "execution_count": 9,
   "id": "7fdeab96-c102-4db3-9eaa-cb65fdd462d0",
   "metadata": {
    "tags": []
   },
   "outputs": [
    {
     "name": "stdout",
     "output_type": "stream",
     "text": [
      "ANY | ALL | DESCRIPTION\n",
      "---------------------------\n",
      " X  |     | tetrahymena: 2\n",
      " X  |     | freesolv: 2\n",
      " X  |     | esol: 8\n",
      " X  |     | MMP2: 13\n",
      " X  |     | IL4: 19, exception: RDKit, Shallow\n",
      " X  |     | F7: 17\n",
      " X  |     | O60674: 19, exception: MACCS, XGB\n",
      " X  |     | O14965: 3\n",
      " X  |     | P03372: 9\n",
      " X  |     | P04150: 14\n",
      " X  |     | P06401: 5\n",
      " X  |     | P11229: 2\n",
      " X  |     | P12931: 13\n",
      " X  |  X  | P16581: 20\n",
      " X  |     | P17252: 4\n",
      " X  |     | P18089: 17\n",
      " X  |     | P19327: 8\n",
      " X  |     | P21554: 10\n",
      " X  |     | P24530: 17\n",
      " X  |     | P25929: 1\n",
      " X  |     | P28335: 10\n",
      "    |     | P28482: 0\n",
      " X  |     | P35968: 18\n",
      " X  |     | P41594: 5\n",
      " X  |     | P42345: 5\n",
      " X  |     | P47871: 14\n",
      " X  |     | P49146: 8\n",
      " X  |     | P61169: 3\n",
      " X  |     | Q05397: 13\n",
      " X  |     | Q16602: 19, exception: MFC, RF\n",
      " X  |     | P24941: 6\n",
      " X  |     | Q92731: 16\n",
      "\n",
      "31 for any.\n",
      "1 for all.\n"
     ]
    }
   ],
   "source": [
    "find_all_below_or_above(performances, med, above=False)"
   ]
  },
  {
   "cell_type": "markdown",
   "id": "420427a4-2c4d-45b4-a2b8-b2d11bcbe9af",
   "metadata": {},
   "source": [
    "#### Homogeneity between $\\rho$ values"
   ]
  },
  {
   "cell_type": "code",
   "execution_count": 10,
   "id": "cbd28aa4-6c5d-4441-b929-a03872f4dfe9",
   "metadata": {
    "tags": []
   },
   "outputs": [
    {
     "name": "stdout",
     "output_type": "stream",
     "text": [
      "0.148322006804881 P11229:          0.331181130974562, 0.479503137779443\n",
      "0.16097726949257807 P04150:          0.2098899787286223, 0.3708672482212004\n",
      "0.1690583235685859 P28335:          0.2518068008018214, 0.4208651243704073\n",
      "0.17208209318272283 P24530:          0.2122932422142101, 0.3843753353969329\n",
      "0.17309873776130238 O60674:          0.1695801516178587, 0.3426788893791611\n",
      "0.1851041771081836 P42345:          0.2591488876441803, 0.4442530647523639\n",
      "0.1890147693363159 P06401:          0.243887513642568, 0.4329022829788839\n",
      "0.20799311368520518 P35968:          0.1630255245970778, 0.371018638282283\n",
      "0.2112963590311181 P21554:          0.2013322073100216, 0.4126285663411397\n",
      "0.21204980179839142 IL4:          0.1562567623106619, 0.3683065641090533\n",
      "0.2152342589290038 P03372:          0.2047418225787239, 0.4199760815077277\n",
      "0.217649949143343 O14965:          0.2221691747462466, 0.4398191238895896\n",
      "0.22354598801793388 P47871:          0.1847271651191227, 0.4082731531370566\n",
      "0.2257102863541833 Q92731:          0.1811599320579295, 0.4068702184121128\n",
      "0.22935664310509182 Q16602:          0.1241362254716811, 0.3534928685767729\n",
      "0.2353517360888974 P24941:          0.2256324027041535, 0.4609841387930509\n",
      "0.2507384494885124 P19327:          0.2486060920674085, 0.4993445415559209\n",
      "0.2510791366906476 Q05397:          0.126617538221508, 0.3776966749121556\n",
      "0.26523815948291696 P61169:          0.2150234053363844, 0.4802615648193014\n",
      "0.27519559738550087 P41594:          0.1906174051741285, 0.4658130025596294\n",
      "0.27699044005685164 tetrahymena:          0.3089131214103092, 0.5859035614671608\n",
      "0.2782129472015858 P12931:          0.1238169371736087, 0.4020298843751945\n",
      "0.2881764010379704 P28482:          0.4010111925606018, 0.6891875935985722\n",
      "0.2983335698223801 F7:          0.1117141728325251, 0.4100477426549052\n",
      "0.35292830599533387 P49146:          0.1172866947403523, 0.4702150007356862\n",
      "0.35325130919785885 P25929:          0.2799121930781413, 0.6331635022760002\n",
      "0.3609041849011197 P17252:          0.2165680717202509, 0.5774722566213706\n",
      "0.3677810966429927 MMP2:          0.1220709871356821, 0.4898520837786748\n",
      "0.3729013240300249 esol:          0.1504434873610377, 0.5233448113910626\n",
      "0.38215021864344745 P16581:          -0.1346535416385737, 0.2474966770048737\n",
      "0.455358998360167 freesolv:          0.2002299425998347, 0.6555889409600018\n",
      "0.5153079321223886 P18089:          -0.0595469225455971, 0.4557610095767915\n"
     ]
    }
   ],
   "source": [
    "diffs = list()\n",
    "\n",
    "for dataset_name in dataset_names:\n",
    "    matrix = performances[dataset_name]\n",
    "    diff = matrix.max() - matrix.min()\n",
    "    diffs.append(f'{diff} {dataset_name}:          {matrix.min()}, {matrix.max()}')\n",
    "    \n",
    "for diff in list(sorted(diffs)):\n",
    "    print(diff)"
   ]
  },
  {
   "cell_type": "markdown",
   "id": "169340a4-c121-4e08-93f7-992b3189f439",
   "metadata": {},
   "source": [
    "#### Best combinations"
   ]
  },
  {
   "cell_type": "code",
   "execution_count": 11,
   "id": "bfdbef9f-a087-4752-a535-95738e10c807",
   "metadata": {},
   "outputs": [
    {
     "name": "stdout",
     "output_type": "stream",
     "text": [
      "tetrahymena: RDKit, XGB\n",
      "freesolv: RDKit, SVM\n",
      "esol: RDKit, Shallow\n",
      "MMP2: RDKit, Shallow\n",
      "IL4: RDKit, Shallow\n",
      "F7: CDDD, Shallow\n",
      "O60674: MACCS, XGB\n",
      "O14965: MFC, RF\n",
      "P03372: CDDD, XGB\n",
      "P04150: MFC, RF\n",
      "P06401: CDDD, RF\n",
      "P11229: RDKit, XGB\n",
      "P12931: MFC, Deep\n",
      "P16581: MACCS, RF\n",
      "P17252: RDKit, XGB\n",
      "P18089: MFC, RF\n",
      "P19327: CDDD, XGB\n",
      "P21554: MACCS, Deep\n",
      "P24530: CDDD, XGB\n",
      "P25929: CDDD, RF\n",
      "P28335: MFC, SVM\n",
      "P28482: MACCS, XGB\n",
      "P35968: MFC, Deep\n",
      "P41594: MFC, Deep\n",
      "P42345: RDKit, XGB\n",
      "P47871: MFC, RF\n",
      "P49146: CDDD, RF\n",
      "P61169: CDDD, SVM\n",
      "Q05397: RDKit, RF\n",
      "Q16602: MFC, RF\n",
      "P24941: MACCS, Deep\n",
      "Q92731: RDKit, XGB\n"
     ]
    }
   ],
   "source": [
    "best_combinations = list()\n",
    "\n",
    "for dataset_name in dataset_names:\n",
    "    matrix = performances[dataset_name]\n",
    "    i_, j_ = np.where(matrix==matrix.max())\n",
    "    i, j = i_[0], j_[0]\n",
    "    best_combinations.append(f'{descriptor_names[i]}, {algorithm_names[j]}')\n",
    "    print(f'{dataset_name}: {descriptor_names[i]}, {algorithm_names[j]}')"
   ]
  },
  {
   "cell_type": "code",
   "execution_count": 12,
   "id": "01496526-9414-49c3-a9a8-f4f469c38798",
   "metadata": {},
   "outputs": [
    {
     "data": {
      "text/plain": [
       "Counter({'RDKit, XGB': 5,\n",
       "         'RDKit, SVM': 1,\n",
       "         'RDKit, Shallow': 3,\n",
       "         'CDDD, Shallow': 1,\n",
       "         'MACCS, XGB': 2,\n",
       "         'MFC, RF': 5,\n",
       "         'CDDD, XGB': 3,\n",
       "         'CDDD, RF': 3,\n",
       "         'MFC, Deep': 3,\n",
       "         'MACCS, RF': 1,\n",
       "         'MACCS, Deep': 2,\n",
       "         'MFC, SVM': 1,\n",
       "         'CDDD, SVM': 1,\n",
       "         'RDKit, RF': 1})"
      ]
     },
     "execution_count": 12,
     "metadata": {},
     "output_type": "execute_result"
    }
   ],
   "source": [
    "collections.Counter(best_combinations)"
   ]
  },
  {
   "cell_type": "markdown",
   "id": "1681e9e8-0f4e-488b-a82f-f0f08ce77051",
   "metadata": {},
   "source": [
    "#### Worst combinations"
   ]
  },
  {
   "cell_type": "code",
   "execution_count": 13,
   "id": "51809db4-de08-48cb-b64b-ede6c3b32bb3",
   "metadata": {},
   "outputs": [
    {
     "name": "stdout",
     "output_type": "stream",
     "text": [
      "tetrahymena: MACCS, Shallow\n",
      "freesolv: MFC, Shallow\n",
      "esol: MFC, Shallow\n",
      "MMP2: MACCS, Deep\n",
      "IL4: MACCS, SVM\n",
      "F7: MFC, Shallow\n",
      "O60674: CDDD, SVM\n",
      "O14965: MACCS, SVM\n",
      "P03372: MACCS, SVM\n",
      "P04150: MACCS, Shallow\n",
      "P06401: MACCS, Shallow\n",
      "P11229: RDKit, Shallow\n",
      "P12931: MACCS, Shallow\n",
      "P16581: MACCS, SVM\n",
      "P17252: CDDD, Shallow\n",
      "P18089: MFC, Deep\n",
      "P19327: MACCS, Shallow\n",
      "P21554: MACCS, SVM\n",
      "P24530: CDDD, Shallow\n",
      "P25929: RDKit, Shallow\n",
      "P28335: MACCS, Shallow\n",
      "P28482: MACCS, Shallow\n",
      "P35968: MACCS, Shallow\n",
      "P41594: RDKit, Shallow\n",
      "P42345: MACCS, SVM\n",
      "P47871: CDDD, Shallow\n",
      "P49146: MFC, Shallow\n",
      "P61169: MACCS, Shallow\n",
      "Q05397: CDDD, Shallow\n",
      "Q16602: MACCS, SVM\n",
      "P24941: MFC, SVM\n",
      "Q92731: MFC, SVM\n"
     ]
    }
   ],
   "source": [
    "worst_combinations = list()\n",
    "\n",
    "for dataset_name in dataset_names:\n",
    "    matrix = performances[dataset_name]\n",
    "    i_, j_ = np.where(matrix==matrix.min())\n",
    "    i, j = i_[0], j_[0]\n",
    "    worst_combinations.append(f'{descriptor_names[i]}, {algorithm_names[j]}')\n",
    "    print(f'{dataset_name}: {descriptor_names[i]}, {algorithm_names[j]}')"
   ]
  },
  {
   "cell_type": "code",
   "execution_count": 14,
   "id": "18372e98-e74b-4e8d-9a6e-26f18c600d7e",
   "metadata": {},
   "outputs": [
    {
     "data": {
      "text/plain": [
       "Counter({'MACCS, Shallow': 9,\n",
       "         'MFC, Shallow': 4,\n",
       "         'MACCS, Deep': 1,\n",
       "         'MACCS, SVM': 7,\n",
       "         'CDDD, SVM': 1,\n",
       "         'RDKit, Shallow': 3,\n",
       "         'CDDD, Shallow': 4,\n",
       "         'MFC, Deep': 1,\n",
       "         'MFC, SVM': 2})"
      ]
     },
     "execution_count": 14,
     "metadata": {},
     "output_type": "execute_result"
    }
   ],
   "source": [
    "collections.Counter(worst_combinations)"
   ]
  },
  {
   "cell_type": "markdown",
   "id": "82de3fc2-b367-4db3-81ba-366baf6ac8f8",
   "metadata": {},
   "source": [
    "#### Find globally lowest/highest"
   ]
  },
  {
   "cell_type": "code",
   "execution_count": 15,
   "id": "b9f652b2-f6d3-43ab-989d-0dc9b03d81ec",
   "metadata": {},
   "outputs": [],
   "source": [
    "lowest = 1.0\n",
    "arg_lowest = ''\n",
    "highest = -1.0\n",
    "arg_highest = ''\n",
    "\n",
    "for dataset_name in dataset_names:\n",
    "    matrix = performances[dataset_name]\n",
    "    current_lowest = matrix.min()\n",
    "    current_highest = matrix.max()\n",
    "    if current_lowest < lowest:\n",
    "        lowest = current_lowest\n",
    "        i_, j_ = np.where(matrix==lowest)\n",
    "        i, j = i_[0], j_[0]\n",
    "        arg_lowest = f'{dataset_name}, {descriptor_names[i]} & {algorithm_names[j]}'\n",
    "    if current_highest > highest:\n",
    "        highest = current_highest\n",
    "        i_, j_ = np.where(matrix==highest)\n",
    "        i, j = i_[0], j_[0]\n",
    "        arg_highest = f'{dataset_name}, {descriptor_names[i]} & {algorithm_names[j]}'"
   ]
  },
  {
   "cell_type": "code",
   "execution_count": 16,
   "id": "503fa40c-6895-4366-9ff2-dfe2fed1d5cd",
   "metadata": {},
   "outputs": [
    {
     "name": "stdout",
     "output_type": "stream",
     "text": [
      "Globally lowest:  P16581, MACCS & SVM  -0.1346535416385737\n",
      "Globally highest: P28482, MACCS & XGB  0.6891875935985722\n"
     ]
    }
   ],
   "source": [
    "print(f'Globally lowest:  {arg_lowest}  {lowest}')\n",
    "print(f'Globally highest: {arg_highest}  {highest}')"
   ]
  },
  {
   "cell_type": "markdown",
   "id": "c761009c-a56b-49f3-a132-8c1e67a2fa20",
   "metadata": {},
   "source": [
    "#### Picking out points of interest"
   ]
  },
  {
   "cell_type": "code",
   "execution_count": 17,
   "id": "a9812824-17ab-412e-81fc-e55ab29d929c",
   "metadata": {},
   "outputs": [
    {
     "name": "stdout",
     "output_type": "stream",
     "text": [
      "Smallest val for P11229 (0.331181130974562) with RDKit & Shallow\n",
      "Largest val for P11229 (0.479503137779443) with RDKit & XGB\n"
     ]
    }
   ],
   "source": [
    "data_set_of_interest = 'P11229'\n",
    "\n",
    "min_val = performances[data_set_of_interest].min()\n",
    "i_, j_ = np.where(performances[data_set_of_interest]==min_val)\n",
    "i, j = i_[0], j_[0]\n",
    "print(f'Smallest val for {data_set_of_interest} ({min_val}) with {descriptor_names[i]} & {algorithm_names[j]}')\n",
    "\n",
    "max_val = performances[data_set_of_interest].max()\n",
    "i_, j_ = np.where(performances[data_set_of_interest]==max_val)\n",
    "i, j = i_[0], j_[0]\n",
    "print(f'Largest val for {data_set_of_interest} ({max_val}) with {descriptor_names[i]} & {algorithm_names[j]}')"
   ]
  },
  {
   "cell_type": "code",
   "execution_count": 18,
   "id": "33212200-717c-440c-b413-c55290649f1a",
   "metadata": {},
   "outputs": [
    {
     "name": "stdout",
     "output_type": "stream",
     "text": [
      "Smallest val for P11229 (0.331181130974562) with RDKit & Shallow\n",
      "Largest val for P11229 (0.479503137779443) with RDKit & XGB\n"
     ]
    }
   ],
   "source": [
    "data_set_of_interest = 'P11229'\n",
    "\n",
    "min_val = performances[data_set_of_interest].min()\n",
    "i_, j_ = np.where(performances[data_set_of_interest]==min_val)\n",
    "i, j = i_[0], j_[0]\n",
    "print(f'Smallest val for {data_set_of_interest} ({min_val}) with {descriptor_names[i]} & {algorithm_names[j]}')\n",
    "\n",
    "max_val = performances[data_set_of_interest].max()\n",
    "i_, j_ = np.where(performances[data_set_of_interest]==max_val)\n",
    "i, j = i_[0], j_[0]\n",
    "print(f'Largest val for {data_set_of_interest} ({max_val}) with {descriptor_names[i]} & {algorithm_names[j]}')"
   ]
  },
  {
   "cell_type": "markdown",
   "id": "7876799c-41f9-4342-aad5-08da8cae84a5",
   "metadata": {},
   "source": [
    "### \"Success tables\""
   ]
  },
  {
   "cell_type": "code",
   "execution_count": 19,
   "id": "9d6eee26-5175-4917-884e-ed628b6e6fdc",
   "metadata": {},
   "outputs": [],
   "source": [
    "success_table = pd.DataFrame(np.zeros((len(descriptor_names), len(algorithm_names))), index=descriptor_names, columns=algorithm_names, dtype=int)\n",
    "fail_table = pd.DataFrame(np.zeros((len(descriptor_names), len(algorithm_names))), index=descriptor_names, columns=algorithm_names, dtype=int)\n",
    "\n",
    "best_dict = collections.Counter(best_combinations)\n",
    "worst_dict = collections.Counter(worst_combinations)\n",
    "\n",
    "for algorithm_name in algorithm_names:\n",
    "    for descriptor_name in descriptor_names:\n",
    "        lookup = f'{descriptor_name}, {algorithm_name}'\n",
    "        success_table[algorithm_name][descriptor_name] = best_dict[lookup]\n",
    "        fail_table[algorithm_name][descriptor_name] = worst_dict[lookup]"
   ]
  },
  {
   "cell_type": "markdown",
   "id": "7b007b1c-c3f6-4b28-b25a-28f40f00c2a3",
   "metadata": {},
   "source": [
    "Plot and save"
   ]
  },
  {
   "cell_type": "code",
   "execution_count": 20,
   "id": "813940e8-7438-46ab-b57c-3d1f32b72ed9",
   "metadata": {},
   "outputs": [
    {
     "data": {
      "image/png": "[encoded data removed]",
      "text/plain": [
       "<Figure size 500x400 with 1 Axes>"
      ]
     },
     "metadata": {
      "needs_background": "light"
     },
     "output_type": "display_data"
    }
   ],
   "source": [
    "fig, ax = plt.subplots(1, 1, figsize=(2.5, 2))\n",
    "im = heatmap(success_table.to_numpy(), descriptor_names, algorithm_names, ax=ax, cmap='YlGn', cbarlabel=None)\n",
    "texts = annotate_heatmap(im, valfmt=\"{x}\", inverse=True, threshold=6)\n",
    "im.set_clim(0, 12)\n",
    "ax.set_title(None, size=7)\n",
    "plt.savefig(PLOT_FOLDER+'summaries/rho_best.pdf', bbox_inches='tight', pad_inches=0.0)\n",
    "plt.show()"
   ]
  },
  {
   "cell_type": "code",
   "execution_count": 21,
   "id": "c641620a-0350-4ab9-a5b3-d6fa31e88971",
   "metadata": {},
   "outputs": [
    {
     "data": {
      "image/png": "[encoded data removed]",
      "text/plain": [
       "<Figure size 500x400 with 1 Axes>"
      ]
     },
     "metadata": {
      "needs_background": "light"
     },
     "output_type": "display_data"
    }
   ],
   "source": [
    "fig, ax = plt.subplots(1, 1, figsize=(2.5, 2))\n",
    "im = heatmap(fail_table.to_numpy(), descriptor_names, algorithm_names, ax=ax, cmap='YlOrRd', cbarlabel=None)\n",
    "texts = annotate_heatmap(im, valfmt=\"{x}\", threshold=0)\n",
    "im.set_clim(0, 15)\n",
    "ax.set_title(None, size=7)\n",
    "plt.savefig(PLOT_FOLDER+'summaries/rho_worst.pdf', bbox_inches='tight', pad_inches=0.0)\n",
    "plt.show()"
   ]
  },
  {
   "cell_type": "markdown",
   "id": "615bf4ca-492a-4a2a-ae7d-adb412668941",
   "metadata": {},
   "source": [
    "### \"Rank sum tables\""
   ]
  },
  {
   "cell_type": "code",
   "execution_count": 22,
   "id": "e9ff9378-22b1-4019-83cc-f095a29fabb4",
   "metadata": {},
   "outputs": [
    {
     "data": {
      "text/plain": [
       "array([[313, 224, 482, 576, 338],\n",
       "       [222, 275, 362, 503, 293],\n",
       "       [194, 181, 376, 443, 354],\n",
       "       [199, 215, 340, 435, 395]])"
      ]
     },
     "execution_count": 22,
     "metadata": {},
     "output_type": "execute_result"
    }
   ],
   "source": [
    "rank_sums = np.zeros((4, 5), dtype=int)\n",
    "\n",
    "for dataset_name in dataset_names:\n",
    "    order = performances[dataset_name].reshape((-1)).argsort()[::-1] \n",
    "    ranks = order.argsort() + 1\n",
    "    rank_sums += ranks.reshape((4, 5))\n",
    "    \n",
    "rank_sums"
   ]
  },
  {
   "cell_type": "code",
   "execution_count": 23,
   "id": "69896ba6-607a-4375-b22d-e77a4fa56a57",
   "metadata": {},
   "outputs": [
    {
     "data": {
      "image/png": "[encoded data removed]",
      "text/plain": [
       "<Figure size 500x400 with 1 Axes>"
      ]
     },
     "metadata": {
      "needs_background": "light"
     },
     "output_type": "display_data"
    }
   ],
   "source": [
    "fig, ax = plt.subplots(1, 1, figsize=(2.5, 2))\n",
    "im = heatmap(rank_sums, descriptor_names, algorithm_names, ax=ax, cmap='viridis_r', cbarlabel=None)\n",
    "texts = annotate_heatmap(im, valfmt=\"{x}\", inverse=True, threshold=400)\n",
    "plt.savefig(PLOT_FOLDER+'summaries/rho_rank_sums.pdf', bbox_inches='tight', pad_inches=0.0)\n",
    "plt.show()"
   ]
  },
  {
   "cell_type": "markdown",
   "id": "fb42f49e-bc72-4215-81b8-a8f0b1f1885e",
   "metadata": {},
   "source": [
    "Combine both (pred and uq) heatmaps"
   ]
  },
  {
   "cell_type": "code",
   "execution_count": 24,
   "id": "ff1b4176-be18-4f8a-8c33-e6eedc433aee",
   "metadata": {},
   "outputs": [
    {
     "data": {
      "text/plain": [
       "array([[429, 294, 628, 571, 382],\n",
       "       [305, 150, 494, 296, 134],\n",
       "       [359, 221, 488, 382, 177],\n",
       "       [468, 323, 273, 232, 114]])"
      ]
     },
     "execution_count": 24,
     "metadata": {},
     "output_type": "execute_result"
    }
   ],
   "source": [
    "# Collect\n",
    "\n",
    "predictive_performances = dict()\n",
    "\n",
    "for dataset_name in dataset_names:\n",
    "    df = load_evaluation_matrix(dataset_name, evaluation='predictive')\n",
    "    predictive_performances[dataset_name] = df\n",
    "    \n",
    "\n",
    "pred_rank_sums = np.zeros((4, 5), dtype=int)\n",
    "\n",
    "for dataset_name in dataset_names:\n",
    "    order = predictive_performances[dataset_name].reshape((-1)).argsort()[::-1] \n",
    "    ranks = order.argsort() + 1\n",
    "    pred_rank_sums += ranks.reshape((4, 5))\n",
    "    \n",
    "pred_rank_sums"
   ]
  },
  {
   "cell_type": "code",
   "execution_count": 25,
   "id": "d880711d-b21d-4ec2-ae05-d7dea8f4684f",
   "metadata": {},
   "outputs": [
    {
     "data": {
      "image/png": "[encoded data removed]",
      "text/plain": [
       "<Figure size 2000x400 with 2 Axes>"
      ]
     },
     "metadata": {
      "needs_background": "light"
     },
     "output_type": "display_data"
    }
   ],
   "source": [
    "# Plot\n",
    "\n",
    "fig, (ax1, ax2) = plt.subplots(1, 2, figsize=(10, 2))\n",
    "\n",
    "im = heatmap(pred_rank_sums, descriptor_names, algorithm_names, ax=ax1, cmap='viridis_r', cbarlabel=None)\n",
    "texts = annotate_heatmap(im, valfmt=\"{x}\", inverse=True, threshold=400)\n",
    "ax1.text(-2.3, 1.5, 'a', fontsize=20, weight='bold', zorder=100000)\n",
    "\n",
    "im = heatmap(rank_sums, descriptor_names, algorithm_names, ax=ax2, cmap='viridis_r', cbarlabel=None)\n",
    "texts = annotate_heatmap(im, valfmt=\"{x}\", inverse=True, threshold=400)\n",
    "ax2.text(-2.3, 1.5, 'b', fontsize=20, weight='bold', zorder=100000)\n",
    "\n",
    "plt.savefig(PLOT_FOLDER+'summaries/r2_and_rho_rank_sums.pdf', bbox_inches='tight', pad_inches=0.0)\n",
    "plt.show()"
   ]
  },
  {
   "cell_type": "code",
   "execution_count": null,
   "id": "cf54feed-a133-43d2-b5ca-8ab87d8e59c0",
   "metadata": {},
   "outputs": [],
   "source": []
  }
 ],
 "metadata": {
  "kernelspec": {
   "display_name": "Python 3",
   "language": "python",
   "name": "python3"
  },
  "language_info": {
   "codemirror_mode": {
    "name": "ipython",
    "version": 3
   },
   "file_extension": ".py",
   "mimetype": "text/x-python",
   "name": "python",
   "nbconvert_exporter": "python",
   "pygments_lexer": "ipython3",
   "version": "3.8.8"
  }
 },
 "nbformat": 4,
 "nbformat_minor": 5
}
