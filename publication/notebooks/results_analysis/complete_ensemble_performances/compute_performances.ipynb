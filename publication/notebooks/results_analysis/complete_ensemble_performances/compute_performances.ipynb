{
 "cells": [
  {
   "cell_type": "markdown",
   "id": "67160f77-aba5-428f-b47d-9c6e6e62087a",
   "metadata": {},
   "source": [
    "# Compute (Predictive and Uncertainty) Performance Tables"
   ]
  },
  {
   "cell_type": "markdown",
   "id": "74b5868e-31b9-4a8f-9458-003f73214486",
   "metadata": {},
   "source": [
    "<hr/>"
   ]
  },
  {
   "cell_type": "markdown",
   "id": "ccb7e279-5709-4781-a305-2d28875bc010",
   "metadata": {},
   "source": [
    "#### Imports"
   ]
  },
  {
   "cell_type": "code",
   "execution_count": 1,
   "id": "8c822e2f-8eaf-430a-8e08-a7ab9eabb399",
   "metadata": {},
   "outputs": [],
   "source": [
    "import copy\n",
    "\n",
    "import numpy as np\n",
    "import pandas as pd\n",
    "\n",
    "from scipy.stats import spearmanr\n",
    "\n",
    "from sklearn.metrics import r2_score"
   ]
  },
  {
   "cell_type": "markdown",
   "id": "4fe4aecb-61a9-4490-9798-5cc1f375a8e9",
   "metadata": {},
   "source": [
    "#### Constants"
   ]
  },
  {
   "cell_type": "code",
   "execution_count": 2,
   "id": "642224bb-7210-4db6-91fe-538929c836cc",
   "metadata": {},
   "outputs": [],
   "source": [
    "N_REPETITIONS = 100\n",
    "N_SPLITS = 2\n",
    "DATA_FOLDER = '../../../data/featurized/'\n",
    "RESULT_FOLDER = '../../../data/results/kfold_ensembles/'\n",
    "ALLOWED_RANGE_FACTOR = .5"
   ]
  },
  {
   "cell_type": "markdown",
   "id": "3852c9eb-b36b-4c08-81fa-bae2abc15cbb",
   "metadata": {},
   "source": [
    "#### Settings"
   ]
  },
  {
   "cell_type": "code",
   "execution_count": 3,
   "id": "568f1436-85b3-40b7-8952-725755c494e7",
   "metadata": {},
   "outputs": [],
   "source": [
    "algorithms = ['rf', 'xgb', 'svm_rbf', 'shallow', 'dropout']\n",
    "algorithm_names = ['RF', 'XGB', 'SVM', 'Shallow', 'Deep']\n",
    "algorithm_to_name = dict(zip(algorithms, algorithm_names))\n",
    "\n",
    "descriptors = ['maccs', 'ecfc', 'rdkit', 'cddd']\n",
    "descriptor_names = ['MACCS', 'ECFC', 'RDKit', 'CDDD']\n",
    "descriptor_to_name = dict(zip(descriptors, descriptor_names))\n",
    "\n",
    "PLOT_FOLDER = f'./plots/'\n",
    "\n",
    "# Names of the datasets that were already run\n",
    "dataset_names = [\n",
    "    'tetrahymena',\n",
    "    'freesolv',\n",
    "    'esol',\n",
    "    'MMP2',\n",
    "    'IL4',\n",
    "    'F7',\n",
    "    'O60674',\n",
    "    'O14965',\n",
    "    'P03372',\n",
    "    'P04150',\n",
    "    'P06401',\n",
    "    'P11229',\n",
    "    'P12931',\n",
    "    'P16581',\n",
    "    'P17252',\n",
    "    'P18089',\n",
    "    'P19327',\n",
    "    'P21554',\n",
    "    'P24530',\n",
    "    'P25929',\n",
    "    'P28335',\n",
    "    'P28482',\n",
    "    'P35968',\n",
    "    'P41594',\n",
    "    'P42345',\n",
    "    'P47871',\n",
    "    'P49146',\n",
    "    'P61169',\n",
    "    'Q05397',\n",
    "    'Q16602',\n",
    "    'P24941',\n",
    "    'Q92731'\n",
    "]"
   ]
  },
  {
   "cell_type": "markdown",
   "id": "457899f4-2956-4c80-b0c8-55a2bc69e2e0",
   "metadata": {},
   "source": [
    "#### Functions"
   ]
  },
  {
   "cell_type": "code",
   "execution_count": 4,
   "id": "b29c1c72-b138-44c5-a858-89dd5abcaa30",
   "metadata": {},
   "outputs": [],
   "source": [
    "def load_results_file(name, algorithm, descriptor, n_repetitions=N_REPETITIONS, n_splits=N_SPLITS):\n",
    "    \"\"\"Loads results from disk for a given combination of ML settings.\"\"\"\n",
    "    path = f'{RESULT_FOLDER}{name}/{algorithm}/{descriptor}/single_predictions/test.csv'\n",
    "    results = pd.read_csv(path, sep=';').set_index('id')\n",
    "    single_tables = list()\n",
    "    for i in range(n_repetitions):\n",
    "        partial_results = results[[f'rep{i}_split{j}' for j in range(n_splits)]]\n",
    "        single_tables.append(partial_results)\n",
    "    return single_tables\n",
    "\n",
    "\n",
    "def load_true(name):\n",
    "    \"\"\"Loads dependent variables of a given dataset.\"\"\"\n",
    "    path = f'{DATA_FOLDER}{name}/{name}_y.csv'\n",
    "    y = pd.read_csv(path, sep=';').set_index('id')\n",
    "    return y\n",
    "\n",
    "\n",
    "def clean_member(member_raw, y):\n",
    "    \"\"\"Removes predictions that are outside the allowed y-range\"\"\"\n",
    "    member = copy.deepcopy(member_raw)\n",
    "    for column in member.columns:\n",
    "        # To the current column, those indeces\n",
    "        # that are nan belong to training samples\n",
    "        train_y = y.loc[member[~member[column].isnull()].index]\n",
    "        train_y_range = train_y.max() - train_y.min()\n",
    "        boundary = ALLOWED_RANGE_FACTOR * train_y_range\n",
    "        allowed_min = (train_y.min() - boundary).values[0]\n",
    "        allowed_max = (train_y.max() + boundary).values[0]\n",
    "        exclusion = ((member[column] < allowed_min) | (member[column] > allowed_max))\n",
    "        member.loc[exclusion] = np.nan\n",
    "    return member\n",
    "\n",
    "\n",
    "def get_values_for_one_evaluation(single_tables, y, clean=True):\n",
    "    \"\"\"Computes predictive and uncertainty performance for one ensemble evaluation.\"\"\"\n",
    "    members = pd.DataFrame(index=y.index)\n",
    "    for i, pre_member in enumerate(single_tables):\n",
    "        # Collect members\n",
    "        if clean:\n",
    "            member = clean_member(pre_member, y)\n",
    "        else:\n",
    "            member = pre_member\n",
    "        members = pd.concat([members, member], axis=1)\n",
    "    mean = members.mean(axis=1)\n",
    "    sdev = members.std(axis=1)\n",
    "    r2 = r2_score(y, mean)\n",
    "    resd = y['y'] - mean\n",
    "    uq = spearmanr(resd.abs(), sdev)[0]\n",
    "    return r2, uq\n",
    "\n",
    "\n",
    "def get_values_for_whole_dataset(name, clean=True):\n",
    "    \"\"\"Computes all performance and uncertainty values for all featurization/algorithm combinations of a single dataset.\"\"\"\n",
    "    y = load_true(name)\n",
    "    r2_matrix = np.zeros((len(descriptors), len(algorithms)))\n",
    "    uq_matrix = np.zeros((len(descriptors), len(algorithms)))\n",
    "    for i, descriptor in enumerate(descriptors):\n",
    "        for j, algorithm in enumerate(algorithms):\n",
    "            single_tables = load_results_file(name, algorithm, descriptor)\n",
    "            r2, uq = get_values_for_one_evaluation(single_tables, y, clean=clean)\n",
    "            r2_matrix[i][j] = r2\n",
    "            uq_matrix[i][j] = uq\n",
    "    r2_matrix_df = make_df(r2_matrix)\n",
    "    uq_matrix_df = make_df(uq_matrix)\n",
    "    return r2_matrix_df, uq_matrix_df\n",
    "\n",
    "\n",
    "def make_df(matrix):\n",
    "    \"\"\"Puts index and column names to evaluation matrix.\"\"\"\n",
    "    matrix_df = pd.DataFrame(matrix, columns=algorithm_names)\n",
    "    matrix_df.index = descriptor_names\n",
    "    matrix_df.index.name = 'descriptor'\n",
    "    return matrix_df"
   ]
  },
  {
   "cell_type": "markdown",
   "id": "cf46bd52-1928-4ba9-a15d-af078bead81c",
   "metadata": {},
   "source": [
    "<hr/>"
   ]
  },
  {
   "cell_type": "markdown",
   "id": "b4cd4f7c-76fe-4d08-b072-f93eb8c5ac63",
   "metadata": {},
   "source": [
    "Quick check difference between raw and clean"
   ]
  },
  {
   "cell_type": "code",
   "execution_count": 5,
   "id": "a193a3de-79b1-43e6-a267-91ec7deb2f53",
   "metadata": {},
   "outputs": [],
   "source": [
    "mmp2_r2, mmp2_uq = get_values_for_whole_dataset('MMP2', clean=False)\n",
    "mmp2_r2_clean, mmp2_uq_clean = get_values_for_whole_dataset('MMP2', clean=True)"
   ]
  },
  {
   "cell_type": "code",
   "execution_count": 6,
   "id": "73b68c6d-d11e-402b-8341-108d1664ebf8",
   "metadata": {},
   "outputs": [
    {
     "data": {
      "text/html": [
       "<div>\n",
       "<style scoped>\n",
       "    .dataframe tbody tr th:only-of-type {\n",
       "        vertical-align: middle;\n",
       "    }\n",
       "\n",
       "    .dataframe tbody tr th {\n",
       "        vertical-align: top;\n",
       "    }\n",
       "\n",
       "    .dataframe thead th {\n",
       "        text-align: right;\n",
       "    }\n",
       "</style>\n",
       "<table border=\"1\" class=\"dataframe\">\n",
       "  <thead>\n",
       "    <tr style=\"text-align: right;\">\n",
       "      <th></th>\n",
       "      <th>RF</th>\n",
       "      <th>XGB</th>\n",
       "      <th>SVM</th>\n",
       "      <th>Shallow</th>\n",
       "      <th>Deep</th>\n",
       "    </tr>\n",
       "    <tr>\n",
       "      <th>descriptor</th>\n",
       "      <th></th>\n",
       "      <th></th>\n",
       "      <th></th>\n",
       "      <th></th>\n",
       "      <th></th>\n",
       "    </tr>\n",
       "  </thead>\n",
       "  <tbody>\n",
       "    <tr>\n",
       "      <th>MACCS</th>\n",
       "      <td>0.424884</td>\n",
       "      <td>0.474591</td>\n",
       "      <td>0.146657</td>\n",
       "      <td>0.180418</td>\n",
       "      <td>0.148106</td>\n",
       "    </tr>\n",
       "    <tr>\n",
       "      <th>ECFC</th>\n",
       "      <td>0.462778</td>\n",
       "      <td>0.529387</td>\n",
       "      <td>0.398680</td>\n",
       "      <td>0.577507</td>\n",
       "      <td>0.538089</td>\n",
       "    </tr>\n",
       "    <tr>\n",
       "      <th>RDKit</th>\n",
       "      <td>0.441466</td>\n",
       "      <td>0.483171</td>\n",
       "      <td>0.389704</td>\n",
       "      <td>-0.337834</td>\n",
       "      <td>0.459375</td>\n",
       "    </tr>\n",
       "    <tr>\n",
       "      <th>CDDD</th>\n",
       "      <td>0.442398</td>\n",
       "      <td>0.465654</td>\n",
       "      <td>0.452958</td>\n",
       "      <td>0.378977</td>\n",
       "      <td>0.399054</td>\n",
       "    </tr>\n",
       "  </tbody>\n",
       "</table>\n",
       "</div>"
      ],
      "text/plain": [
       "                  RF       XGB       SVM   Shallow      Deep\n",
       "descriptor                                                  \n",
       "MACCS       0.424884  0.474591  0.146657  0.180418  0.148106\n",
       "ECFC        0.462778  0.529387  0.398680  0.577507  0.538089\n",
       "RDKit       0.441466  0.483171  0.389704 -0.337834  0.459375\n",
       "CDDD        0.442398  0.465654  0.452958  0.378977  0.399054"
      ]
     },
     "execution_count": 6,
     "metadata": {},
     "output_type": "execute_result"
    }
   ],
   "source": [
    "mmp2_r2"
   ]
  },
  {
   "cell_type": "code",
   "execution_count": 7,
   "id": "3cfa6b45-3680-4e58-9054-7399afa91b8d",
   "metadata": {},
   "outputs": [
    {
     "data": {
      "text/html": [
       "<div>\n",
       "<style scoped>\n",
       "    .dataframe tbody tr th:only-of-type {\n",
       "        vertical-align: middle;\n",
       "    }\n",
       "\n",
       "    .dataframe tbody tr th {\n",
       "        vertical-align: top;\n",
       "    }\n",
       "\n",
       "    .dataframe thead th {\n",
       "        text-align: right;\n",
       "    }\n",
       "</style>\n",
       "<table border=\"1\" class=\"dataframe\">\n",
       "  <thead>\n",
       "    <tr style=\"text-align: right;\">\n",
       "      <th></th>\n",
       "      <th>RF</th>\n",
       "      <th>XGB</th>\n",
       "      <th>SVM</th>\n",
       "      <th>Shallow</th>\n",
       "      <th>Deep</th>\n",
       "    </tr>\n",
       "    <tr>\n",
       "      <th>descriptor</th>\n",
       "      <th></th>\n",
       "      <th></th>\n",
       "      <th></th>\n",
       "      <th></th>\n",
       "      <th></th>\n",
       "    </tr>\n",
       "  </thead>\n",
       "  <tbody>\n",
       "    <tr>\n",
       "      <th>MACCS</th>\n",
       "      <td>0.424884</td>\n",
       "      <td>0.474591</td>\n",
       "      <td>0.146657</td>\n",
       "      <td>0.180418</td>\n",
       "      <td>0.148106</td>\n",
       "    </tr>\n",
       "    <tr>\n",
       "      <th>ECFC</th>\n",
       "      <td>0.462778</td>\n",
       "      <td>0.529387</td>\n",
       "      <td>0.398680</td>\n",
       "      <td>0.577507</td>\n",
       "      <td>0.538089</td>\n",
       "    </tr>\n",
       "    <tr>\n",
       "      <th>RDKit</th>\n",
       "      <td>0.441466</td>\n",
       "      <td>0.483171</td>\n",
       "      <td>0.389704</td>\n",
       "      <td>-0.231477</td>\n",
       "      <td>0.459375</td>\n",
       "    </tr>\n",
       "    <tr>\n",
       "      <th>CDDD</th>\n",
       "      <td>0.442398</td>\n",
       "      <td>0.465654</td>\n",
       "      <td>0.452958</td>\n",
       "      <td>0.379104</td>\n",
       "      <td>0.399054</td>\n",
       "    </tr>\n",
       "  </tbody>\n",
       "</table>\n",
       "</div>"
      ],
      "text/plain": [
       "                  RF       XGB       SVM   Shallow      Deep\n",
       "descriptor                                                  \n",
       "MACCS       0.424884  0.474591  0.146657  0.180418  0.148106\n",
       "ECFC        0.462778  0.529387  0.398680  0.577507  0.538089\n",
       "RDKit       0.441466  0.483171  0.389704 -0.231477  0.459375\n",
       "CDDD        0.442398  0.465654  0.452958  0.379104  0.399054"
      ]
     },
     "execution_count": 7,
     "metadata": {},
     "output_type": "execute_result"
    }
   ],
   "source": [
    "mmp2_r2_clean"
   ]
  },
  {
   "cell_type": "markdown",
   "id": "44ec5008-95c7-468d-9124-f7ce9b2a0fba",
   "metadata": {},
   "source": [
    "#### Compute Performance Tables"
   ]
  },
  {
   "cell_type": "code",
   "execution_count": 8,
   "id": "0998b48e-9f80-449b-9b24-be530cf428e8",
   "metadata": {},
   "outputs": [
    {
     "name": "stdout",
     "output_type": "stream",
     "text": [
      "At 1 out of 32 (tetrahymena).\n",
      "At 2 out of 32 (freesolv).\n",
      "At 3 out of 32 (esol).\n",
      "At 4 out of 32 (MMP2).\n",
      "At 5 out of 32 (IL4).\n",
      "At 6 out of 32 (F7).\n",
      "At 7 out of 32 (O60674).\n",
      "At 8 out of 32 (O14965).\n",
      "At 9 out of 32 (P03372).\n",
      "At 10 out of 32 (P04150).\n",
      "At 11 out of 32 (P06401).\n",
      "At 12 out of 32 (P11229).\n",
      "At 13 out of 32 (P12931).\n",
      "At 14 out of 32 (P16581).\n",
      "At 15 out of 32 (P17252).\n",
      "At 16 out of 32 (P18089).\n",
      "At 17 out of 32 (P19327).\n",
      "At 18 out of 32 (P21554).\n",
      "At 19 out of 32 (P24530).\n",
      "At 20 out of 32 (P25929).\n",
      "At 21 out of 32 (P28335).\n",
      "At 22 out of 32 (P28482).\n",
      "At 23 out of 32 (P35968).\n",
      "At 24 out of 32 (P41594).\n",
      "At 25 out of 32 (P42345).\n",
      "At 26 out of 32 (P47871).\n",
      "At 27 out of 32 (P49146).\n",
      "At 28 out of 32 (P61169).\n",
      "At 29 out of 32 (Q05397).\n",
      "At 30 out of 32 (Q16602).\n",
      "At 31 out of 32 (P24941).\n",
      "At 32 out of 32 (Q92731).\n",
      "Done.\n"
     ]
    }
   ],
   "source": [
    "for i, dataset_name in enumerate(dataset_names):\n",
    "    print(f'At {i+1} out of {len(dataset_names)} ({dataset_name}).')\n",
    "    r2_matrix_df, uq_matrix_df = get_values_for_whole_dataset(dataset_name)\n",
    "    r2_matrix_df.to_csv(f'../../../data/generated_by_notebooks/predictive_performances/{dataset_name}.csv', sep=';')\n",
    "    uq_matrix_df.to_csv(f'../../../data/generated_by_notebooks/uncertainty_performances/{dataset_name}.csv', sep=';')\n",
    "print('Done.')"
   ]
  }
 ],
 "metadata": {
  "kernelspec": {
   "display_name": "Python 3",
   "language": "python",
   "name": "python3"
  },
  "language_info": {
   "codemirror_mode": {
    "name": "ipython",
    "version": 3
   },
   "file_extension": ".py",
   "mimetype": "text/x-python",
   "name": "python",
   "nbconvert_exporter": "python",
   "pygments_lexer": "ipython3",
   "version": "3.8.8"
  }
 },
 "nbformat": 4,
 "nbformat_minor": 5
}
