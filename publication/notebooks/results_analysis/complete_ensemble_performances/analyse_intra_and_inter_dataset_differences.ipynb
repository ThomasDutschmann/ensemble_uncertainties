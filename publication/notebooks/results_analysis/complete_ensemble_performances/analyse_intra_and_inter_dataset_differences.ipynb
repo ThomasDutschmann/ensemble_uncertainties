{
 "cells": [
  {
   "cell_type": "markdown",
   "id": "f917a35d-f86b-4eb9-bdc9-04bf53d29937",
   "metadata": {},
   "source": [
    "# Analyze Differences Between Datasets and Within Datasets"
   ]
  },
  {
   "cell_type": "markdown",
   "id": "a8709f30-b155-4449-8289-4b0422a6f6f4",
   "metadata": {},
   "source": [
    "<hr/>"
   ]
  },
  {
   "cell_type": "markdown",
   "id": "7559593a-f717-4a01-8af6-4c80df9d00b8",
   "metadata": {},
   "source": [
    "#### Imports"
   ]
  },
  {
   "cell_type": "code",
   "execution_count": 1,
   "id": "1c0fa6bb-3e2d-41ed-85d3-271edd0faf4a",
   "metadata": {},
   "outputs": [],
   "source": [
    "import collections\n",
    "\n",
    "import matplotlib as mpl\n",
    "import matplotlib.pyplot as plt\n",
    "import numpy as np\n",
    "import pandas as pd\n",
    "\n",
    "from scipy.stats import f_oneway, kruskal"
   ]
  },
  {
   "cell_type": "markdown",
   "id": "0024ce7c-1535-431d-b2e9-2c256b6ed556",
   "metadata": {},
   "source": [
    "#### Constants"
   ]
  },
  {
   "cell_type": "code",
   "execution_count": 2,
   "id": "0886e694-179e-4189-afcd-a85c1761e4f8",
   "metadata": {},
   "outputs": [],
   "source": [
    "DATA_FOLDER = '../../../data/generated_by_notebooks/'"
   ]
  },
  {
   "cell_type": "markdown",
   "id": "26e6308d-228a-4510-a797-7b22c36fcb2d",
   "metadata": {},
   "source": [
    "#### Settings"
   ]
  },
  {
   "cell_type": "code",
   "execution_count": 3,
   "id": "adcb6adb-6e5b-4196-a54d-7ade02e82c59",
   "metadata": {},
   "outputs": [],
   "source": [
    "mpl.rcParams['figure.dpi'] = 200\n",
    "\n",
    "algorithms = ['rf', 'xgb', 'svm_rbf', 'shallow', 'dropout']\n",
    "algorithm_names = ['RF', 'XGB', 'SVM', 'Shallow', 'Deep']\n",
    "algorithm_to_name = dict(zip(algorithms, algorithm_names))\n",
    "\n",
    "descriptors = ['maccs', 'ecfc', 'rdkit', 'cddd']\n",
    "descriptor_names = ['MACCS', 'MFC', 'RDKit', 'CDDD']\n",
    "descriptor_to_name = dict(zip(descriptors, descriptor_names))\n",
    "\n",
    "# Names of the datasets that were already run\n",
    "dataset_names = [\n",
    "    'tetrahymena',\n",
    "    'freesolv',\n",
    "    'esol',\n",
    "    'MMP2',\n",
    "    'IL4',\n",
    "    'F7',\n",
    "    'O60674',\n",
    "    'O14965',\n",
    "    'P03372',\n",
    "    'P04150',\n",
    "    'P06401',\n",
    "    'P11229',\n",
    "    'P12931',\n",
    "    'P16581',\n",
    "    'P17252',\n",
    "    'P18089',\n",
    "    'P19327',\n",
    "    'P21554',\n",
    "    'P24530',\n",
    "    'P25929',\n",
    "    'P28335',\n",
    "    'P28482',\n",
    "    'P35968',\n",
    "    'P41594',\n",
    "    'P42345',\n",
    "    'P47871',\n",
    "    'P49146',\n",
    "    'P61169',\n",
    "    'Q05397',\n",
    "    'Q16602',\n",
    "    'P24941',\n",
    "    'Q92731'\n",
    "]"
   ]
  },
  {
   "cell_type": "markdown",
   "id": "44f16810-4e78-4406-b8f7-78bf98aa4e4f",
   "metadata": {},
   "source": [
    "#### Functions"
   ]
  },
  {
   "cell_type": "code",
   "execution_count": 4,
   "id": "e93adf0d-44f8-4e3e-a4c9-6bb9f13477d5",
   "metadata": {},
   "outputs": [],
   "source": [
    "def load_evaluation_matrix(name, evaluation='predictive', to_matrix=True):\n",
    "    \"\"\"Loads performance table for a single dataset.\"\"\"\n",
    "    path = f'{DATA_FOLDER}/{evaluation}_performances/{name}.csv'\n",
    "    df = pd.read_csv(path, sep=';').set_index('descriptor')\n",
    "    if to_matrix:\n",
    "        matrix = df.to_numpy()\n",
    "        return matrix\n",
    "    else:\n",
    "        return df\n",
    "    \n",
    "    \n",
    "def fetch(performance_dfs, labels, transpose=False):\n",
    "    \"\"\"Collects performance values from a list of dataframes, where 'labels' are the column names.\"\"\"\n",
    "    collected = [pd.DataFrame() for _ in range(len(labels))]\n",
    "    for dataset_name in dataset_names:\n",
    "        df = performance_dfs[dataset_name]\n",
    "        if transpose:\n",
    "            df = df.T\n",
    "        for i, label in enumerate(labels):\n",
    "            collected[i][dataset_name] = df[label]\n",
    "    return collected\n",
    "\n",
    "\n",
    "def make_y_range(yrange, interval=.1):\n",
    "    \"\"\"Creates a range between yrange[0] and yrange[1] with a given interval.\"\"\"\n",
    "    factor = 1./interval\n",
    "    ylow = int(factor * yrange[0])\n",
    "    yhigh = int(factor * yrange[1])\n",
    "    rang = range(ylow, yhigh+1)\n",
    "    rang_adjusted = [np.round(val*interval, 1) for val in rang]\n",
    "    return rang_adjusted\n",
    "\n",
    "    \n",
    "def my_formatting(number):\n",
    "    \"\"\"Formats a number scientifically when < .01 and 'normally' otherwise.\"\"\"\n",
    "    if number < 0.01:\n",
    "        return f'{number:.2e}'\n",
    "    else:\n",
    "        return f'{number:.2f}'"
   ]
  },
  {
   "cell_type": "markdown",
   "id": "03bb54cc-48b7-477a-b77b-3e5c53aaeba1",
   "metadata": {},
   "source": [
    "<hr/>"
   ]
  },
  {
   "cell_type": "markdown",
   "id": "d5189180-e0f4-4519-9150-83b9c8666336",
   "metadata": {},
   "source": [
    "#### Load data"
   ]
  },
  {
   "cell_type": "code",
   "execution_count": 5,
   "id": "263c69f7-3419-4eb8-9153-1cf18875e648",
   "metadata": {},
   "outputs": [],
   "source": [
    "predictive_performances = dict()\n",
    "uncertainty_performances = dict()\n",
    "\n",
    "for dataset_name in dataset_names:\n",
    "    pred_df = load_evaluation_matrix(dataset_name, evaluation='predictive', to_matrix=False)\n",
    "    predictive_performances[dataset_name] = pred_df.rename(index={'ECFC': 'MFC'})\n",
    "    uq_df = load_evaluation_matrix(dataset_name, evaluation='uncertainty', to_matrix=False)\n",
    "    uncertainty_performances[dataset_name] = uq_df.rename(index={'ECFC': 'MFC'})"
   ]
  },
  {
   "cell_type": "markdown",
   "id": "0bb67d6f-867c-431a-aee4-69a7f9cdc902",
   "metadata": {},
   "source": [
    "#### Prepare"
   ]
  },
  {
   "cell_type": "code",
   "execution_count": 6,
   "id": "e44df0d3-654d-489d-9a06-264d32281deb",
   "metadata": {},
   "outputs": [],
   "source": [
    "pred_algorithm_wise = fetch(predictive_performances, algorithm_names)\n",
    "pred_descriptor_wise = fetch(predictive_performances, descriptor_names, transpose=True)\n",
    "\n",
    "uq_algorithm_wise = fetch(uncertainty_performances, algorithm_names)\n",
    "uq_descriptor_wise = fetch(uncertainty_performances, descriptor_names, transpose=True)"
   ]
  },
  {
   "cell_type": "markdown",
   "id": "0aa11933-5e83-4fb3-b796-ce6bad1eb1b5",
   "metadata": {},
   "source": [
    "#### Reshape"
   ]
  },
  {
   "cell_type": "markdown",
   "id": "dd62a43f-e6b0-41aa-b9f5-a15c2b5ffac5",
   "metadata": {},
   "source": [
    "Predictive"
   ]
  },
  {
   "cell_type": "code",
   "execution_count": 7,
   "id": "ed99d9d7-a62e-4bf5-b2ea-02b3953e33c6",
   "metadata": {},
   "outputs": [],
   "source": [
    "pred_descriptor_wise_flat = dict()\n",
    "pred_algorithm_wise_flat = dict()\n",
    "pred_dataset_wise_flat = dict()\n",
    "\n",
    "for i, descriptor in enumerate(descriptors):\n",
    "    pred_descriptor_wise_flat[descriptor] = pred_descriptor_wise[i].values.reshape((-1))\n",
    "    \n",
    "for i, algorithm in enumerate(algorithms):\n",
    "    pred_algorithm_wise_flat[algorithm] = pred_algorithm_wise[i].values.reshape((-1))\n",
    "    \n",
    "for dataset_name in dataset_names:\n",
    "    pred_dataset_wise_flat[dataset_name] = predictive_performances[dataset_name].values.reshape((-1))\n",
    "    \n",
    "pred_descriptor_wise_flat_list = [pred_descriptor_wise_flat[descriptor] for descriptor in descriptors]    \n",
    "pred_algorithm_wise_flat_list = [pred_algorithm_wise_flat[algorithm] for algorithm in algorithms]\n",
    "pred_dataset_wise_flat_list = [pred_dataset_wise_flat[dataset_name] for dataset_name in dataset_names]"
   ]
  },
  {
   "cell_type": "markdown",
   "id": "2924f678-58b0-4c5f-827a-70f3d5041a3b",
   "metadata": {},
   "source": [
    "UQ"
   ]
  },
  {
   "cell_type": "code",
   "execution_count": 8,
   "id": "73ba3126-27e3-4dd5-8d79-69f74d0d727f",
   "metadata": {},
   "outputs": [],
   "source": [
    "uq_descriptor_wise_flat = dict()\n",
    "uq_algorithm_wise_flat = dict()\n",
    "uq_dataset_wise_flat = dict()\n",
    "\n",
    "for i, descriptor in enumerate(descriptors):\n",
    "    uq_descriptor_wise_flat[descriptor] = uq_descriptor_wise[i].values.reshape((-1))\n",
    "    \n",
    "for i, algorithm in enumerate(algorithms):\n",
    "    uq_algorithm_wise_flat[algorithm] = uq_algorithm_wise[i].values.reshape((-1))\n",
    "    \n",
    "for dataset_name in dataset_names:\n",
    "    uq_dataset_wise_flat[dataset_name] = uncertainty_performances[dataset_name].values.reshape((-1))\n",
    "    \n",
    "uq_descriptor_wise_flat_list = [uq_descriptor_wise_flat[descriptor] for descriptor in descriptors]    \n",
    "uq_algorithm_wise_flat_list = [uq_algorithm_wise_flat[algorithm] for algorithm in algorithms]\n",
    "uq_dataset_wise_flat_list = [uq_dataset_wise_flat[dataset_name] for dataset_name in dataset_names]"
   ]
  },
  {
   "cell_type": "markdown",
   "id": "8ed0d25c-43e7-4b01-8d13-4cb029806369",
   "metadata": {},
   "source": [
    "<hr/>"
   ]
  },
  {
   "cell_type": "markdown",
   "id": "aecfa40e-9a9b-43d1-8586-8b0c870ec7b8",
   "metadata": {},
   "source": [
    "#### Analyze Predictive"
   ]
  },
  {
   "cell_type": "code",
   "execution_count": 9,
   "id": "f5df5b2c-d393-4d38-afde-f406ad59cf19",
   "metadata": {},
   "outputs": [],
   "source": [
    "pred_tests_df = pd.DataFrame(index=['ANOVA', 'Kruskal–Wallis'])"
   ]
  },
  {
   "cell_type": "markdown",
   "id": "17f6c817-cae7-4078-85d5-2bd317dd9639",
   "metadata": {},
   "source": [
    "Predictive, inter-descriptor"
   ]
  },
  {
   "cell_type": "code",
   "execution_count": 10,
   "id": "1880e876-ae31-454f-a794-f4881399a83c",
   "metadata": {},
   "outputs": [],
   "source": [
    "anova_stat, anova_pvalue = f_oneway(*pred_descriptor_wise_flat_list)"
   ]
  },
  {
   "cell_type": "code",
   "execution_count": 11,
   "id": "83d958c6-f75c-44db-bca2-68b77ab2f4c1",
   "metadata": {},
   "outputs": [],
   "source": [
    "kruskal_stat, kruskal_pvalue = kruskal(*pred_descriptor_wise_flat_list)"
   ]
  },
  {
   "cell_type": "code",
   "execution_count": 12,
   "id": "eb2587a0-abfe-4f3e-831e-22bdbf855c9c",
   "metadata": {},
   "outputs": [],
   "source": [
    "pred_tests_df['Inter-featurization'] = [\n",
    "    f'Statistic = {my_formatting(anova_stat)}; p-value = {my_formatting(anova_pvalue)}',\n",
    "    f'Statistic = {my_formatting(kruskal_stat)}; p-value = {my_formatting(kruskal_pvalue)}'\n",
    "]"
   ]
  },
  {
   "cell_type": "markdown",
   "id": "e6c5078e-9574-4a10-abb8-d64e3fd5b6cb",
   "metadata": {},
   "source": [
    "Predictive, inter-algorithm"
   ]
  },
  {
   "cell_type": "code",
   "execution_count": 13,
   "id": "c530e782-d739-48bd-8b56-92c9f8df1a13",
   "metadata": {},
   "outputs": [],
   "source": [
    "anova_stat, anova_pvalue = f_oneway(*pred_algorithm_wise_flat_list)"
   ]
  },
  {
   "cell_type": "code",
   "execution_count": 14,
   "id": "9cd82995-ac81-455b-80f0-ce4ad81d9f5a",
   "metadata": {},
   "outputs": [],
   "source": [
    "kruskal_stat, kruskal_pvalue = kruskal(*pred_algorithm_wise_flat_list)"
   ]
  },
  {
   "cell_type": "code",
   "execution_count": 15,
   "id": "ff04d3a6-014b-4f99-b247-385ae413e107",
   "metadata": {},
   "outputs": [],
   "source": [
    "pred_tests_df['Inter-technique'] = [\n",
    "    f'Statistic = {my_formatting(anova_stat)}; p-value = {my_formatting(anova_pvalue)}',\n",
    "    f'Statistic = {my_formatting(kruskal_stat)}; p-value = {my_formatting(kruskal_pvalue)}'\n",
    "]"
   ]
  },
  {
   "cell_type": "markdown",
   "id": "937a38e3-2b12-4568-a215-61b2f1849922",
   "metadata": {},
   "source": [
    "Predictive, inter-dataset"
   ]
  },
  {
   "cell_type": "code",
   "execution_count": 16,
   "id": "09fe8f03-9030-4b3c-b197-6c9f7901d7dd",
   "metadata": {},
   "outputs": [],
   "source": [
    "anova_stat, anova_pvalue = f_oneway(*pred_dataset_wise_flat_list)"
   ]
  },
  {
   "cell_type": "code",
   "execution_count": 17,
   "id": "e6928b91-8683-424a-835f-4f9b19980c72",
   "metadata": {},
   "outputs": [],
   "source": [
    "kruskal_stat, kruskal_pvalue = kruskal(*pred_dataset_wise_flat_list)"
   ]
  },
  {
   "cell_type": "code",
   "execution_count": 18,
   "id": "f1b0d9f0-e907-4ac6-9827-88b69b355f25",
   "metadata": {},
   "outputs": [],
   "source": [
    "pred_tests_df['Inter-dataset'] = [\n",
    "    f'Statistic = {my_formatting(anova_stat)}; p-value = {my_formatting(anova_pvalue)}',\n",
    "    f'Statistic = {my_formatting(kruskal_stat)}; p-value = {my_formatting(kruskal_pvalue)}'\n",
    "]"
   ]
  },
  {
   "cell_type": "code",
   "execution_count": 19,
   "id": "ff52c51d-027a-45de-84a9-7ccc315f9978",
   "metadata": {},
   "outputs": [
    {
     "name": "stdout",
     "output_type": "stream",
     "text": [
      "\\begin{tabular}{lll}\n",
      "\\toprule\n",
      "{} &                                   ANOVA &                          Kruskal–Wallis \\\\\n",
      "\\midrule\n",
      "Inter-featurization &   Statistic = 11.58; p-value = 2.13e-07 &   Statistic = 28.04; p-value = 3.57e-06 \\\\\n",
      "Inter-technique     &   Statistic = 11.05; p-value = 1.15e-08 &   Statistic = 38.16; p-value = 1.04e-07 \\\\\n",
      "Inter-dataset       &  Statistic = 40.91; p-value = 2.54e-127 &  Statistic = 482.58; p-value = 1.81e-82 \\\\\n",
      "\\bottomrule\n",
      "\\end{tabular}\n",
      "\n"
     ]
    }
   ],
   "source": [
    "print(pred_tests_df.T.to_latex())"
   ]
  },
  {
   "cell_type": "markdown",
   "id": "cb26e9c2-9aca-4385-b2ed-26e6e65698db",
   "metadata": {},
   "source": [
    "<hr/>"
   ]
  },
  {
   "cell_type": "markdown",
   "id": "895c11da-d571-41a4-b10b-7ff4aa3b4bce",
   "metadata": {},
   "source": [
    "#### Analyze UQ"
   ]
  },
  {
   "cell_type": "code",
   "execution_count": 20,
   "id": "5cff5125-b81e-4238-8f19-c4e7fc6bb81b",
   "metadata": {},
   "outputs": [],
   "source": [
    "uq_tests_df = pd.DataFrame(index=['ANOVA', 'Kruskal–Wallis'])"
   ]
  },
  {
   "cell_type": "markdown",
   "id": "78e92810-bdd7-46a0-9a01-07b2ffa83f4d",
   "metadata": {},
   "source": [
    "UQ, inter-descriptor"
   ]
  },
  {
   "cell_type": "code",
   "execution_count": 21,
   "id": "c54f041c-5692-4860-9710-ca8faccbb4ce",
   "metadata": {},
   "outputs": [],
   "source": [
    "anova_stat, anova_pvalue = f_oneway(*uq_descriptor_wise_flat_list)"
   ]
  },
  {
   "cell_type": "code",
   "execution_count": 22,
   "id": "0c64eb1e-b9ff-4a55-bd3a-c18d304fb18e",
   "metadata": {},
   "outputs": [],
   "source": [
    "kruskal_stat, kruskal_pvalue = kruskal(*uq_descriptor_wise_flat_list)"
   ]
  },
  {
   "cell_type": "code",
   "execution_count": 23,
   "id": "7f980286-ac97-4831-b296-c4c93d604e29",
   "metadata": {},
   "outputs": [],
   "source": [
    "uq_tests_df['Inter-featurization'] = [\n",
    "    f'Statistic = {my_formatting(anova_stat)}; p-value = {my_formatting(anova_pvalue)}',\n",
    "    f'Statistic = {my_formatting(kruskal_stat)}; p-value = {my_formatting(kruskal_pvalue)}'\n",
    "]"
   ]
  },
  {
   "cell_type": "markdown",
   "id": "f86968fe-375a-489c-922d-c7d097624b4e",
   "metadata": {},
   "source": [
    "UQ, inter-algorithm"
   ]
  },
  {
   "cell_type": "code",
   "execution_count": 24,
   "id": "4a9d2b1f-2873-4373-adc1-7d35785c0e55",
   "metadata": {},
   "outputs": [],
   "source": [
    "anova_stat, anova_pvalue = f_oneway(*uq_algorithm_wise_flat_list)"
   ]
  },
  {
   "cell_type": "code",
   "execution_count": 25,
   "id": "46882201-26bd-421a-958f-26eebdf67a48",
   "metadata": {},
   "outputs": [],
   "source": [
    "kruskal_stat, kruskal_pvalue = kruskal(*uq_algorithm_wise_flat_list)"
   ]
  },
  {
   "cell_type": "code",
   "execution_count": 26,
   "id": "ff14c205-6749-496f-ad67-ff0c40b03672",
   "metadata": {},
   "outputs": [],
   "source": [
    "uq_tests_df['Inter-technique'] = [\n",
    "    f'Statistic = {my_formatting(anova_stat)}; p-value = {my_formatting(anova_pvalue)}',\n",
    "    f'Statistic = {my_formatting(kruskal_stat)}; p-value = {my_formatting(kruskal_pvalue)}'\n",
    "]"
   ]
  },
  {
   "cell_type": "markdown",
   "id": "da6d9445-adef-4589-9c03-8fa963ff05a3",
   "metadata": {},
   "source": [
    "UQ, inter-dataset"
   ]
  },
  {
   "cell_type": "code",
   "execution_count": 27,
   "id": "ae59fa29-6438-4227-ad0b-6c516dee5fdd",
   "metadata": {},
   "outputs": [],
   "source": [
    "anova_stat, anova_pvalue = f_oneway(*uq_dataset_wise_flat_list)"
   ]
  },
  {
   "cell_type": "code",
   "execution_count": 28,
   "id": "0863304e-cbc6-412c-9ff0-3706fcb18600",
   "metadata": {},
   "outputs": [],
   "source": [
    "kruskal_stat, kruskal_pvalue = kruskal(*uq_dataset_wise_flat_list)"
   ]
  },
  {
   "cell_type": "code",
   "execution_count": 29,
   "id": "2247b531-f8c7-4101-a5cd-a971e00a2e0b",
   "metadata": {},
   "outputs": [],
   "source": [
    "uq_tests_df['Inter-dataset'] = [\n",
    "    f'Statistic = {my_formatting(anova_stat)}; p-value = {my_formatting(anova_pvalue)}',\n",
    "    f'Statistic = {my_formatting(kruskal_stat)}; p-value = {my_formatting(kruskal_pvalue)}'\n",
    "]"
   ]
  },
  {
   "cell_type": "code",
   "execution_count": 30,
   "id": "484ef680-14f7-4767-8705-06c7cf30b366",
   "metadata": {},
   "outputs": [
    {
     "data": {
      "text/html": [
       "<div>\n",
       "<style scoped>\n",
       "    .dataframe tbody tr th:only-of-type {\n",
       "        vertical-align: middle;\n",
       "    }\n",
       "\n",
       "    .dataframe tbody tr th {\n",
       "        vertical-align: top;\n",
       "    }\n",
       "\n",
       "    .dataframe thead th {\n",
       "        text-align: right;\n",
       "    }\n",
       "</style>\n",
       "<table border=\"1\" class=\"dataframe\">\n",
       "  <thead>\n",
       "    <tr style=\"text-align: right;\">\n",
       "      <th></th>\n",
       "      <th>Inter-featurization</th>\n",
       "      <th>Inter-technique</th>\n",
       "      <th>Inter-dataset</th>\n",
       "    </tr>\n",
       "  </thead>\n",
       "  <tbody>\n",
       "    <tr>\n",
       "      <th>ANOVA</th>\n",
       "      <td>Statistic = 2.66; p-value = 0.05</td>\n",
       "      <td>Statistic = 18.63; p-value = 1.72e-14</td>\n",
       "      <td>Statistic = 31.56; p-value = 9.93e-106</td>\n",
       "    </tr>\n",
       "    <tr>\n",
       "      <th>Kruskal–Wallis</th>\n",
       "      <td>Statistic = 8.82; p-value = 0.03</td>\n",
       "      <td>Statistic = 79.60; p-value = 2.12e-16</td>\n",
       "      <td>Statistic = 355.65; p-value = 8.10e-57</td>\n",
       "    </tr>\n",
       "  </tbody>\n",
       "</table>\n",
       "</div>"
      ],
      "text/plain": [
       "                             Inter-featurization  \\\n",
       "ANOVA           Statistic = 2.66; p-value = 0.05   \n",
       "Kruskal–Wallis  Statistic = 8.82; p-value = 0.03   \n",
       "\n",
       "                                      Inter-technique  \\\n",
       "ANOVA           Statistic = 18.63; p-value = 1.72e-14   \n",
       "Kruskal–Wallis  Statistic = 79.60; p-value = 2.12e-16   \n",
       "\n",
       "                                         Inter-dataset  \n",
       "ANOVA           Statistic = 31.56; p-value = 9.93e-106  \n",
       "Kruskal–Wallis  Statistic = 355.65; p-value = 8.10e-57  "
      ]
     },
     "execution_count": 30,
     "metadata": {},
     "output_type": "execute_result"
    }
   ],
   "source": [
    "uq_tests_df"
   ]
  },
  {
   "cell_type": "code",
   "execution_count": 31,
   "id": "38103908-0f2b-4e65-a561-db60b43088e0",
   "metadata": {},
   "outputs": [
    {
     "name": "stdout",
     "output_type": "stream",
     "text": [
      "\\begin{tabular}{lll}\n",
      "\\toprule\n",
      "{} &                                   ANOVA &                          Kruskal–Wallis \\\\\n",
      "\\midrule\n",
      "Inter-featurization &        Statistic = 2.66; p-value = 0.05 &        Statistic = 8.82; p-value = 0.03 \\\\\n",
      "Inter-technique     &   Statistic = 18.63; p-value = 1.72e-14 &   Statistic = 79.60; p-value = 2.12e-16 \\\\\n",
      "Inter-dataset       &  Statistic = 31.56; p-value = 9.93e-106 &  Statistic = 355.65; p-value = 8.10e-57 \\\\\n",
      "\\bottomrule\n",
      "\\end{tabular}\n",
      "\n"
     ]
    }
   ],
   "source": [
    "print(uq_tests_df.T.to_latex())"
   ]
  }
 ],
 "metadata": {
  "kernelspec": {
   "display_name": "Python 3",
   "language": "python",
   "name": "python3"
  },
  "language_info": {
   "codemirror_mode": {
    "name": "ipython",
    "version": 3
   },
   "file_extension": ".py",
   "mimetype": "text/x-python",
   "name": "python",
   "nbconvert_exporter": "python",
   "pygments_lexer": "ipython3",
   "version": "3.8.8"
  }
 },
 "nbformat": 4,
 "nbformat_minor": 5
}
