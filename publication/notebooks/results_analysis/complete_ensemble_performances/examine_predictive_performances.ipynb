{
 "cells": [
  {
   "cell_type": "markdown",
   "id": "ad59498a-2b5a-4d39-ba79-c1a9922c455e",
   "metadata": {},
   "source": [
    "# Examine Predictive Performance Results for all Combinations (e.g. Rankings)"
   ]
  },
  {
   "cell_type": "markdown",
   "id": "047dc3ca-1f09-44fc-b3f1-3b55d6da4cd6",
   "metadata": {},
   "source": [
    "<hr/>"
   ]
  },
  {
   "cell_type": "markdown",
   "id": "123b4edb-1d9f-4cd2-9c31-172c7c9c6dc4",
   "metadata": {},
   "source": [
    "#### Imports"
   ]
  },
  {
   "cell_type": "code",
   "execution_count": 1,
   "id": "70ad2c91-6de8-4dc5-a1c4-6105f6e6e42b",
   "metadata": {},
   "outputs": [],
   "source": [
    "import collections\n",
    "\n",
    "import matplotlib as mpl\n",
    "import matplotlib.pyplot as plt\n",
    "import numpy as np\n",
    "import pandas as pd"
   ]
  },
  {
   "cell_type": "markdown",
   "id": "45cb036d-b114-472b-aec3-282ef63e5aeb",
   "metadata": {},
   "source": [
    "#### Constants"
   ]
  },
  {
   "cell_type": "code",
   "execution_count": 2,
   "id": "c7443dd9-9f98-461a-8ff5-1683fa5f3f14",
   "metadata": {},
   "outputs": [],
   "source": [
    "DATA_FOLDER = '../../../data/generated_by_notebooks/'\n",
    "PLOT_FOLDER = './plots/'"
   ]
  },
  {
   "cell_type": "markdown",
   "id": "87728c3d-c3d6-4d54-b73e-5567f4f3210b",
   "metadata": {},
   "source": [
    "#### Settings"
   ]
  },
  {
   "cell_type": "code",
   "execution_count": 3,
   "id": "d47817bd-1261-44bc-bf48-d431d3ccea73",
   "metadata": {},
   "outputs": [],
   "source": [
    "mpl.rcParams['figure.dpi'] = 200\n",
    "\n",
    "algorithms = ['rf', 'xgb', 'svm_rbf', 'shallow', 'dropout']\n",
    "algorithm_names = ['RF', 'XGB', 'SVM', 'Shallow', 'Deep']\n",
    "algorithm_to_name = dict(zip(algorithms, algorithm_names))\n",
    "\n",
    "descriptors = ['maccs', 'ecfc', 'rdkit', 'cddd']\n",
    "descriptor_names = ['MACCS', 'MFC', 'RDKit', 'CDDD']\n",
    "descriptor_to_name = dict(zip(descriptors, descriptor_names))\n",
    "\n",
    "# Names of the datasets that were already run\n",
    "dataset_names = [\n",
    "    'tetrahymena',\n",
    "    'freesolv',\n",
    "    'esol',\n",
    "    'MMP2',\n",
    "    'IL4',\n",
    "    'F7',\n",
    "    'O60674',\n",
    "    'O14965',\n",
    "    'P03372',\n",
    "    'P04150',\n",
    "    'P06401',\n",
    "    'P11229',\n",
    "    'P12931',\n",
    "    'P16581',\n",
    "    'P17252',\n",
    "    'P18089',\n",
    "    'P19327',\n",
    "    'P21554',\n",
    "    'P24530',\n",
    "    'P25929',\n",
    "    'P28335',\n",
    "    'P28482',\n",
    "    'P35968',\n",
    "    'P41594',\n",
    "    'P42345',\n",
    "    'P47871',\n",
    "    'P49146',\n",
    "    'P61169',\n",
    "    'Q05397',\n",
    "    'Q16602',\n",
    "    'P24941',\n",
    "    'Q92731'\n",
    "]"
   ]
  },
  {
   "cell_type": "markdown",
   "id": "f3e0b6d9-426c-4d83-b114-4a39be759ac0",
   "metadata": {},
   "source": [
    "#### Functions"
   ]
  },
  {
   "cell_type": "code",
   "execution_count": 4,
   "id": "3d6852f6-cca8-4952-89c3-c0400b4da29b",
   "metadata": {},
   "outputs": [],
   "source": [
    "def load_evaluation_matrix(name, evaluation='predictive', to_matrix=True):\n",
    "    \"\"\"Loads performance table for a single dataset.\"\"\"\n",
    "    path = f'{DATA_FOLDER}/{evaluation}_performances/{name}.csv'\n",
    "    df = pd.read_csv(path, sep=';').set_index('descriptor')\n",
    "    if to_matrix:\n",
    "        matrix = df.to_numpy()\n",
    "        return matrix\n",
    "    else:\n",
    "        return df\n",
    "    \n",
    "    \n",
    "def find_all_below_or_above(tables, threshold, above=True, explicit=False):\n",
    "    \"\"\"Finds and reports all combinations above or below a given threshold.\"\"\"\n",
    "    def hit(value):\n",
    "        if above:\n",
    "            return value >= threshold\n",
    "        else:\n",
    "            return value <= threshold\n",
    "    external_hit_counter = 0\n",
    "    maximum_hit_counter = 0\n",
    "    max_hits = len(descriptor_names) * len(algorithm_names)\n",
    "    print('ANY | ALL | DESCRIPTION')\n",
    "    print('---------------------------')\n",
    "    for name in dataset_names:\n",
    "        internal_hit_counter = 0\n",
    "        exceptions = list()\n",
    "        for i, descriptor in enumerate(descriptor_names):\n",
    "            for j, algorithm in enumerate(algorithm_names):\n",
    "                val = tables[name][i][j]\n",
    "                if hit(val):\n",
    "                    if explicit:\n",
    "                        print(f'{dataset_name} {descriptor} {algorithm}: {val}')\n",
    "                    internal_hit_counter += 1\n",
    "                else:\n",
    "                    exceptions.append(f'{descriptor}, {algorithm}')\n",
    "        if internal_hit_counter > 0:\n",
    "            indicator = ' X  | '\n",
    "            external_hit_counter += 1\n",
    "        else:\n",
    "            indicator = '    | '\n",
    "        if internal_hit_counter == max_hits:\n",
    "            indicator += ' X  |'\n",
    "            maximum_hit_counter += 1\n",
    "        else:\n",
    "            indicator += '    |'\n",
    "        if internal_hit_counter == max_hits - 1:\n",
    "            print(f'{indicator} {name}: {internal_hit_counter}, exception: {exceptions[0]}')\n",
    "        else:\n",
    "            print(f'{indicator} {name}: {internal_hit_counter}')\n",
    "        if explicit:\n",
    "            print()\n",
    "    print()\n",
    "    print(f'{external_hit_counter} for any.')\n",
    "    print(f'{maximum_hit_counter} for all.')\n",
    "    \n",
    "\n",
    "# Copied from\n",
    "# https://matplotlib.org/3.5.0/gallery/images_contours_and_fields/image_annotated_heatmap.html\n",
    "# then changed.\n",
    "\n",
    "def heatmap(data, row_labels, col_labels, ax=None,\n",
    "            cbar_kw={}, cbarlabel=\"\", **kwargs):\n",
    "    \"\"\"\n",
    "    Create a heatmap from a numpy array and two lists of labels.\n",
    "\n",
    "    Parameters\n",
    "    ----------\n",
    "    data\n",
    "        A 2D numpy array of shape (M, N).\n",
    "    row_labels\n",
    "        A list or array of length M with the labels for the rows.\n",
    "    col_labels\n",
    "        A list or array of length N with the labels for the columns.\n",
    "    ax\n",
    "        A `matplotlib.axes.Axes` instance to which the heatmap is plotted.  If\n",
    "        not provided, use current axes or create a new one.  Optional.\n",
    "    cbar_kw\n",
    "        A dictionary with arguments to `matplotlib.Figure.colorbar`.  Optional.\n",
    "    cbarlabel\n",
    "        The label for the colorbar.  Optional.\n",
    "    **kwargs\n",
    "        All other arguments are forwarded to `imshow`.\n",
    "    \"\"\"\n",
    "\n",
    "    if not ax:\n",
    "        ax = plt.gca()\n",
    "\n",
    "    # Plot the heatmap\n",
    "    im = ax.imshow(data, **kwargs)\n",
    "\n",
    "    # Create colorbar\n",
    "    #cbar = ax.figure.colorbar(im, ax=ax, **cbar_kw)\n",
    "    #cbar.ax.set_ylabel(cbarlabel, rotation=-90, va=\"bottom\")\n",
    "\n",
    "    # Show all ticks and label them with the respective list entries.\n",
    "    ax.set_xticks(np.arange(data.shape[1]))\n",
    "    ax.set_xticklabels(col_labels, size=7)\n",
    "    ax.set_yticks(np.arange(data.shape[0]))\n",
    "    ax.set_yticklabels(row_labels, size=7)\n",
    "\n",
    "    # Let the horizontal axes labeling appear on top.\n",
    "    #ax.tick_params(top=False, bottom=False, left=False,\n",
    "    #               labeltop=True, labelbottom=False)\n",
    "    ax.tick_params(top=False, bottom=False, left=False,\n",
    "                   labeltop=True, labelbottom=False)\n",
    "    ax.tick_params(axis=\"y\", pad=-2.)\n",
    "    ax.tick_params(axis=\"x\", pad=-3.)\n",
    "    # Rotate the tick labels and set their alignment.\n",
    "    plt.setp(ax.get_xticklabels(), ha=\"center\",\n",
    "             rotation_mode=\"default\")\n",
    "    plt.setp(ax.get_yticklabels(), rotation=0, ha=\"right\",\n",
    "            rotation_mode='anchor')\n",
    "\n",
    "    # Turn spines off and create white grid.\n",
    "    #ax.spines[:].set_visible(False)\n",
    "\n",
    "    ax.set_xticks(np.arange(data.shape[1]), minor=True)\n",
    "    ax.set_yticks(np.arange(data.shape[0]), minor=True)\n",
    "\n",
    "    #return im, cbar\n",
    "    return im\n",
    "\n",
    "\n",
    "def annotate_heatmap(im, data=None, valfmt=\"{x:.2f}\",\n",
    "                     textcolors=(\"black\", \"white\"),\n",
    "                     threshold=None, inverse=False, underlining=False, **textkw):\n",
    "    \"\"\"\n",
    "    A function to annotate a heatmap.\n",
    "\n",
    "    Parameters\n",
    "    ----------\n",
    "    im\n",
    "        The AxesImage to be labeled.\n",
    "    data\n",
    "        Data used to annotate.  If None, the image's data is used.  Optional.\n",
    "    valfmt\n",
    "        The format of the annotations inside the heatmap.  This should either\n",
    "        use the string format method, e.g. \"$ {x:.2f}\", or be a\n",
    "        `matplotlib.ticker.Formatter`.  Optional.\n",
    "    textcolors\n",
    "        A pair of colors.  The first is used for values below a threshold,\n",
    "        the second for those above.  Optional.\n",
    "    threshold\n",
    "        Value in data units according to which the colors from textcolors are\n",
    "        applied.  If None (the default) uses the middle of the colormap as\n",
    "        separation.  Optional.\n",
    "    **kwargs\n",
    "        All other arguments are forwarded to each call to `text` used to create\n",
    "        the text labels.\n",
    "    \"\"\"\n",
    "\n",
    "    if not isinstance(data, (list, np.ndarray)):\n",
    "        data = im.get_array()\n",
    "\n",
    "    # Normalize the threshold to the images color range.\n",
    "    if threshold is not None:\n",
    "        threshold = im.norm(threshold)\n",
    "    else:\n",
    "        threshold = im.norm(data.max())/2.\n",
    "\n",
    "    # Set default alignment to center, but allow it to be\n",
    "    # overwritten by textkw.\n",
    "    kw = dict(horizontalalignment=\"center\",\n",
    "              verticalalignment=\"center\")\n",
    "    kw.update(textkw)\n",
    "\n",
    "    # Get the formatter in case a string is supplied\n",
    "    if isinstance(valfmt, str):\n",
    "        valfmt = mpl.ticker.StrMethodFormatter(valfmt)\n",
    "        \n",
    "    # Added: Underline best performing value\n",
    "    best_i, best_j = np.where(data==data.max())\n",
    "    best_i, best_j = best_i[0], best_j[0]\n",
    "    mykwargs = {'size': 9, 'ha': 'center', 'va': 'center'}\n",
    "\n",
    "    # Loop over the data and create a `Text` for each \"pixel\".\n",
    "    # Change the text's color depending on the data.\n",
    "    texts = []\n",
    "    for i in range(data.shape[0]):\n",
    "        for j in range(data.shape[1]):\n",
    "            # Original:\n",
    "            #kw.update(color=textcolors[int(im.norm(data[i, j]) > threshold)])\n",
    "            # Changed:\n",
    "            string = valfmt(data[i, j], None)\n",
    "            if inverse:\n",
    "                col = textcolors[int(im.norm(data[i, j]) > threshold)]\n",
    "            else:\n",
    "                col = textcolors[int(im.norm(data[i, j]) < threshold)]\n",
    "            if i == best_i and j == best_j and underlining:\n",
    "                text = im.axes.text(j, i, string, weight='bold', color=col, **mykwargs)\n",
    "                underline = ''.join(['_' for char in range(len(string))])\n",
    "                line = im.axes.text(j, i, underline, weight='bold', color=col, **mykwargs)\n",
    "                texts.append(text)\n",
    "                texts.append(line)\n",
    "            else:\n",
    "                text = im.axes.text(j, i, string, color=col, **mykwargs)\n",
    "                texts.append(text)\n",
    "            #kw.update(color=textcolors[int(im.norm(data[i, j]) < threshold)])\n",
    "    return texts"
   ]
  },
  {
   "cell_type": "markdown",
   "id": "3abfb8fb-4720-48e9-be6d-b9bc192dfbcf",
   "metadata": {},
   "source": [
    "<hr/>"
   ]
  },
  {
   "cell_type": "markdown",
   "id": "be5d7012-8c2e-4743-a241-c3e3deb3b049",
   "metadata": {},
   "source": [
    "#### Load data"
   ]
  },
  {
   "cell_type": "code",
   "execution_count": 5,
   "id": "34ee93bb-dcef-4123-aa99-23598c03a6f8",
   "metadata": {},
   "outputs": [],
   "source": [
    "performances = dict()\n",
    "\n",
    "for dataset_name in dataset_names:\n",
    "    df = load_evaluation_matrix(dataset_name, evaluation='predictive')\n",
    "    performances[dataset_name] = df"
   ]
  },
  {
   "cell_type": "markdown",
   "id": "8320ca30-e79a-41de-ac26-6d8a19d040d2",
   "metadata": {},
   "source": [
    "<hr/>"
   ]
  },
  {
   "cell_type": "markdown",
   "id": "22ff53db-e743-43e4-8c85-64fd0555a718",
   "metadata": {},
   "source": [
    "### Evaluate"
   ]
  },
  {
   "cell_type": "markdown",
   "id": "b0dc441a-6a7d-4569-81c1-971d783c811f",
   "metadata": {},
   "source": [
    "#### Inspect distribution"
   ]
  },
  {
   "cell_type": "code",
   "execution_count": 6,
   "id": "f0d61496-0bb2-49f0-821b-0e828b5f16d7",
   "metadata": {},
   "outputs": [
    {
     "data": {
      "image/png": "[encoded data removed]",
      "text/plain": [
       "<Figure size 1200x800 with 1 Axes>"
      ]
     },
     "metadata": {
      "needs_background": "light"
     },
     "output_type": "display_data"
    }
   ],
   "source": [
    "all_values_unraveled = list()\n",
    "\n",
    "for dataset_name in dataset_names:\n",
    "    for value in performances[dataset_name].reshape(-1):\n",
    "        all_values_unraveled.append(value)\n",
    "\n",
    "plt.hist(all_values_unraveled, bins=100)\n",
    "plt.show()"
   ]
  },
  {
   "cell_type": "code",
   "execution_count": 7,
   "id": "e5d8ca35-385e-44df-aebe-8fe1123c971e",
   "metadata": {},
   "outputs": [
    {
     "name": "stdout",
     "output_type": "stream",
     "text": [
      "0.6332336832276874\n"
     ]
    }
   ],
   "source": [
    "med = np.median(all_values_unraveled)\n",
    "print(med)"
   ]
  },
  {
   "cell_type": "markdown",
   "id": "93fee7a9-6666-49eb-b10f-f8bd3a6ba06a",
   "metadata": {},
   "source": [
    "#### $R^2$ above/below given threshold"
   ]
  },
  {
   "cell_type": "code",
   "execution_count": 8,
   "id": "8e03ea7a-5786-4be1-9ca6-99d30547a340",
   "metadata": {
    "tags": []
   },
   "outputs": [
    {
     "name": "stdout",
     "output_type": "stream",
     "text": [
      "ANY | ALL | DESCRIPTION\n",
      "---------------------------\n",
      " X  |  X  | tetrahymena: 20\n",
      " X  |     | freesolv: 19, exception: MFC, SVM\n",
      " X  |     | esol: 19, exception: MFC, SVM\n",
      "    |     | MMP2: 0\n",
      "    |     | IL4: 0\n",
      " X  |     | F7: 13\n",
      "    |     | O60674: 0\n",
      " X  |     | O14965: 11\n",
      " X  |     | P03372: 18\n",
      " X  |     | P04150: 12\n",
      " X  |     | P06401: 18\n",
      " X  |     | P11229: 17\n",
      " X  |     | P12931: 18\n",
      " X  |     | P16581: 6\n",
      " X  |     | P17252: 9\n",
      "    |     | P18089: 0\n",
      " X  |     | P19327: 2\n",
      " X  |     | P21554: 18\n",
      " X  |     | P24530: 19, exception: MACCS, SVM\n",
      " X  |     | P25929: 18\n",
      "    |     | P28335: 0\n",
      "    |     | P28482: 0\n",
      " X  |     | P35968: 9\n",
      "    |     | P41594: 0\n",
      " X  |     | P42345: 19, exception: MACCS, SVM\n",
      " X  |     | P47871: 1\n",
      " X  |     | P49146: 18\n",
      "    |     | P61169: 0\n",
      "    |     | Q05397: 0\n",
      " X  |     | Q16602: 19, exception: MACCS, SVM\n",
      " X  |     | P24941: 14\n",
      " X  |     | Q92731: 3\n",
      "\n",
      "23 for any.\n",
      "1 for all.\n"
     ]
    }
   ],
   "source": [
    "find_all_below_or_above(performances, med)"
   ]
  },
  {
   "cell_type": "code",
   "execution_count": 9,
   "id": "7fdeab96-c102-4db3-9eaa-cb65fdd462d0",
   "metadata": {
    "tags": []
   },
   "outputs": [
    {
     "name": "stdout",
     "output_type": "stream",
     "text": [
      "ANY | ALL | DESCRIPTION\n",
      "---------------------------\n",
      "    |     | tetrahymena: 0\n",
      " X  |     | freesolv: 1\n",
      " X  |     | esol: 1\n",
      " X  |  X  | MMP2: 20\n",
      " X  |  X  | IL4: 20\n",
      " X  |     | F7: 7\n",
      " X  |  X  | O60674: 20\n",
      " X  |     | O14965: 9\n",
      " X  |     | P03372: 2\n",
      " X  |     | P04150: 8\n",
      " X  |     | P06401: 2\n",
      " X  |     | P11229: 3\n",
      " X  |     | P12931: 2\n",
      " X  |     | P16581: 14\n",
      " X  |     | P17252: 11\n",
      " X  |  X  | P18089: 20\n",
      " X  |     | P19327: 18\n",
      " X  |     | P21554: 2\n",
      " X  |     | P24530: 1\n",
      " X  |     | P25929: 2\n",
      " X  |  X  | P28335: 20\n",
      " X  |  X  | P28482: 20\n",
      " X  |     | P35968: 11\n",
      " X  |  X  | P41594: 20\n",
      " X  |     | P42345: 1\n",
      " X  |     | P47871: 19, exception: MFC, XGB\n",
      " X  |     | P49146: 2\n",
      " X  |  X  | P61169: 20\n",
      " X  |  X  | Q05397: 20\n",
      " X  |     | Q16602: 1\n",
      " X  |     | P24941: 6\n",
      " X  |     | Q92731: 17\n",
      "\n",
      "31 for any.\n",
      "9 for all.\n"
     ]
    }
   ],
   "source": [
    "find_all_below_or_above(performances, med, above=False)"
   ]
  },
  {
   "cell_type": "markdown",
   "id": "420427a4-2c4d-45b4-a2b8-b2d11bcbe9af",
   "metadata": {},
   "source": [
    "#### Homogeneity between $R^2$ values"
   ]
  },
  {
   "cell_type": "code",
   "execution_count": 10,
   "id": "cbd28aa4-6c5d-4441-b929-a03872f4dfe9",
   "metadata": {
    "tags": []
   },
   "outputs": [
    {
     "name": "stdout",
     "output_type": "stream",
     "text": [
      "0.15181971821824825 tetrahymena:          0.719900194803393, 0.8717199130216412\n",
      "0.15849396448651043 P49146:          0.616740962553469, 0.7752349270399794\n",
      "0.18183550921859482 P04150:          0.5104437382831484, 0.6922792475017432\n",
      "0.1898666932225681 P11229:          0.5583013285249663, 0.7481680217475344\n",
      "0.2028890672663649 P03372:          0.5421720864184335, 0.7450611536847984\n",
      "0.22221059012700917 P06401:          0.5234713633165795, 0.7456819534435887\n",
      "0.22248251953037335 P16581:          0.4786981415707726, 0.701180661101146\n",
      "0.22926278817417367 P42345:          0.608833638473398, 0.8380964266475717\n",
      "0.24978942985475272 P17252:          0.4383781099682318, 0.6881675398229845\n",
      "0.2503707260564617 Q16602:          0.588623875520963, 0.8389946015774247\n",
      "0.2551201708096322 P24941:          0.4701325343968233, 0.7252527052064555\n",
      "0.2796275258276222 P12931:          0.4793880300982454, 0.7590155559258676\n",
      "0.2830857923649913 P47871:          0.3562744746923, 0.6393602670572913\n",
      "0.2871769518931384 P21554:          0.511618942860198, 0.7987958947533365\n",
      "0.2929392508811519 Q05397:          0.2463229357789023, 0.5392621866600542\n",
      "0.2945798130849218 Q92731:          0.3783518453521772, 0.672931658437099\n",
      "0.2957714561229349 P61169:          0.309060771450574, 0.6048322275735089\n",
      "0.29783133983210064 P24530:          0.5378099992295191, 0.8356413390616197\n",
      "0.29876736640602913 P41594:          0.2939245258240842, 0.5926918922301133\n",
      "0.30286548318727796 P19327:          0.3389543153288666, 0.6418197985161446\n",
      "0.31543124144473533 esol:          0.6192950354094566, 0.934726276854192\n",
      "0.3180770771909737 P28335:          0.2916592122632798, 0.6097362894542535\n",
      "0.3443638272685808 O60674:          0.2585364423195105, 0.6029002695880913\n",
      "0.3502642024622142 P25929:          0.4629223969280177, 0.8131865993902319\n",
      "0.3950209692606027 P35968:          0.3134348324303323, 0.708455801690935\n",
      "0.3951549879245009 P18089:          0.215712797290498, 0.6108677852149988\n",
      "0.3954707310709805 O14965:          0.3554747031047717, 0.7509454341757522\n",
      "0.47718418065499885 freesolv:          0.4567773605042848, 0.9339615411592836\n",
      "0.48080149529349075 P28482:          0.1367759542261831, 0.6175774495196739\n",
      "0.510007684771212 F7:          0.2178424514674026, 0.7278501362386147\n",
      "0.5251421688350353 IL4:          0.0888067782955983, 0.6139489471306336\n",
      "0.8089836959522823 MMP2:          -0.2314771828802657, 0.5775065130720165\n"
     ]
    }
   ],
   "source": [
    "diffs = list()\n",
    "\n",
    "for dataset_name in dataset_names:\n",
    "    matrix = performances[dataset_name]\n",
    "    diff = matrix.max() - matrix.min()\n",
    "    diffs.append(f'{diff} {dataset_name}:          {matrix.min()}, {matrix.max()}')\n",
    "    \n",
    "for diff in list(sorted(diffs)):\n",
    "    print(diff)"
   ]
  },
  {
   "cell_type": "markdown",
   "id": "169340a4-c121-4e08-93f7-992b3189f439",
   "metadata": {},
   "source": [
    "#### Best combinations"
   ]
  },
  {
   "cell_type": "code",
   "execution_count": 11,
   "id": "bfdbef9f-a087-4752-a535-95738e10c807",
   "metadata": {},
   "outputs": [
    {
     "name": "stdout",
     "output_type": "stream",
     "text": [
      "tetrahymena: RDKit, Shallow\n",
      "freesolv: RDKit, Shallow\n",
      "esol: CDDD, Shallow\n",
      "MMP2: MFC, Shallow\n",
      "IL4: MFC, Shallow\n",
      "F7: MFC, XGB\n",
      "O60674: MFC, Deep\n",
      "O14965: MFC, Deep\n",
      "P03372: CDDD, Deep\n",
      "P04150: CDDD, Deep\n",
      "P06401: MFC, Deep\n",
      "P11229: CDDD, Deep\n",
      "P12931: CDDD, Deep\n",
      "P16581: MFC, XGB\n",
      "P17252: MFC, XGB\n",
      "P18089: CDDD, XGB\n",
      "P19327: MFC, Deep\n",
      "P21554: CDDD, Deep\n",
      "P24530: CDDD, Deep\n",
      "P25929: MFC, Deep\n",
      "P28335: CDDD, Deep\n",
      "P28482: MFC, Deep\n",
      "P35968: MFC, Deep\n",
      "P41594: CDDD, Deep\n",
      "P42345: MFC, Deep\n",
      "P47871: MFC, XGB\n",
      "P49146: CDDD, Deep\n",
      "P61169: MFC, Deep\n",
      "Q05397: MFC, Deep\n",
      "Q16602: CDDD, Deep\n",
      "P24941: MFC, Deep\n",
      "Q92731: CDDD, Shallow\n"
     ]
    }
   ],
   "source": [
    "best_combinations = list()\n",
    "\n",
    "for dataset_name in dataset_names:\n",
    "    matrix = performances[dataset_name]\n",
    "    i_, j_ = np.where(matrix==matrix.max())\n",
    "    i, j = i_[0], j_[0]\n",
    "    best_combinations.append(f'{descriptor_names[i]}, {algorithm_names[j]}')\n",
    "    print(f'{dataset_name}: {descriptor_names[i]}, {algorithm_names[j]}')"
   ]
  },
  {
   "cell_type": "code",
   "execution_count": 12,
   "id": "01496526-9414-49c3-a9a8-f4f469c38798",
   "metadata": {},
   "outputs": [
    {
     "data": {
      "text/plain": [
       "Counter({'RDKit, Shallow': 2,\n",
       "         'CDDD, Shallow': 2,\n",
       "         'MFC, Shallow': 2,\n",
       "         'MFC, XGB': 4,\n",
       "         'MFC, Deep': 11,\n",
       "         'CDDD, Deep': 10,\n",
       "         'CDDD, XGB': 1})"
      ]
     },
     "execution_count": 12,
     "metadata": {},
     "output_type": "execute_result"
    }
   ],
   "source": [
    "collections.Counter(best_combinations)"
   ]
  },
  {
   "cell_type": "markdown",
   "id": "1681e9e8-0f4e-488b-a82f-f0f08ce77051",
   "metadata": {},
   "source": [
    "#### Worst combinations"
   ]
  },
  {
   "cell_type": "code",
   "execution_count": 13,
   "id": "51809db4-de08-48cb-b64b-ede6c3b32bb3",
   "metadata": {},
   "outputs": [
    {
     "name": "stdout",
     "output_type": "stream",
     "text": [
      "tetrahymena: MACCS, SVM\n",
      "freesolv: MFC, SVM\n",
      "esol: MFC, SVM\n",
      "MMP2: RDKit, Shallow\n",
      "IL4: RDKit, Shallow\n",
      "F7: MACCS, Deep\n",
      "O60674: MACCS, SVM\n",
      "O14965: MACCS, SVM\n",
      "P03372: MACCS, SVM\n",
      "P04150: MACCS, SVM\n",
      "P06401: MACCS, SVM\n",
      "P11229: MACCS, SVM\n",
      "P12931: MACCS, SVM\n",
      "P16581: MACCS, SVM\n",
      "P17252: MACCS, SVM\n",
      "P18089: CDDD, Shallow\n",
      "P19327: MACCS, SVM\n",
      "P21554: MACCS, SVM\n",
      "P24530: MACCS, SVM\n",
      "P25929: MACCS, SVM\n",
      "P28335: MACCS, SVM\n",
      "P28482: MACCS, SVM\n",
      "P35968: MACCS, SVM\n",
      "P41594: MACCS, SVM\n",
      "P42345: MACCS, SVM\n",
      "P47871: MACCS, SVM\n",
      "P49146: MACCS, Shallow\n",
      "P61169: MACCS, SVM\n",
      "Q05397: MACCS, SVM\n",
      "Q16602: MACCS, SVM\n",
      "P24941: MACCS, SVM\n",
      "Q92731: MACCS, SVM\n"
     ]
    }
   ],
   "source": [
    "worst_combinations = list()\n",
    "\n",
    "for dataset_name in dataset_names:\n",
    "    matrix = performances[dataset_name]\n",
    "    i_, j_ = np.where(matrix==matrix.min())\n",
    "    i, j = i_[0], j_[0]\n",
    "    worst_combinations.append(f'{descriptor_names[i]}, {algorithm_names[j]}')\n",
    "    print(f'{dataset_name}: {descriptor_names[i]}, {algorithm_names[j]}')"
   ]
  },
  {
   "cell_type": "code",
   "execution_count": 14,
   "id": "18372e98-e74b-4e8d-9a6e-26f18c600d7e",
   "metadata": {},
   "outputs": [
    {
     "data": {
      "text/plain": [
       "Counter({'MACCS, SVM': 25,\n",
       "         'MFC, SVM': 2,\n",
       "         'RDKit, Shallow': 2,\n",
       "         'MACCS, Deep': 1,\n",
       "         'CDDD, Shallow': 1,\n",
       "         'MACCS, Shallow': 1})"
      ]
     },
     "execution_count": 14,
     "metadata": {},
     "output_type": "execute_result"
    }
   ],
   "source": [
    "collections.Counter(worst_combinations)"
   ]
  },
  {
   "cell_type": "markdown",
   "id": "6f13c48a-c70e-45a8-9218-7d8950e8cdc5",
   "metadata": {},
   "source": [
    "#### Find globally lowest/highest"
   ]
  },
  {
   "cell_type": "code",
   "execution_count": 15,
   "id": "e50066f7-0a51-458f-a1e5-d76ab2265051",
   "metadata": {},
   "outputs": [],
   "source": [
    "lowest = 1.0\n",
    "arg_lowest = ''\n",
    "highest = -1.0\n",
    "arg_highest = ''\n",
    "\n",
    "for dataset_name in dataset_names:\n",
    "    matrix = performances[dataset_name]\n",
    "    current_lowest = matrix.min()\n",
    "    current_highest = matrix.max()\n",
    "    if current_lowest < lowest:\n",
    "        lowest = current_lowest\n",
    "        i_, j_ = np.where(matrix==lowest)\n",
    "        i, j = i_[0], j_[0]\n",
    "        arg_lowest = f'{dataset_name}, {descriptor_names[i]} & {algorithm_names[j]}'\n",
    "    if current_highest > highest:\n",
    "        highest = current_highest\n",
    "        i_, j_ = np.where(matrix==highest)\n",
    "        i, j = i_[0], j_[0]\n",
    "        arg_highest = f'{dataset_name}, {descriptor_names[i]} & {algorithm_names[j]}'"
   ]
  },
  {
   "cell_type": "code",
   "execution_count": 16,
   "id": "5abc0b6e-d849-483e-b026-5e9b0d094de1",
   "metadata": {},
   "outputs": [
    {
     "name": "stdout",
     "output_type": "stream",
     "text": [
      "Globally lowest:  MMP2, RDKit & Shallow  -0.2314771828802657\n",
      "Globally highest: esol, CDDD & Shallow  0.934726276854192\n"
     ]
    }
   ],
   "source": [
    "print(f'Globally lowest:  {arg_lowest}  {lowest}')\n",
    "print(f'Globally highest: {arg_highest}  {highest}')"
   ]
  },
  {
   "cell_type": "markdown",
   "id": "06d107b5-0797-4f05-b132-7811fda0aecb",
   "metadata": {},
   "source": [
    "#### Picking out points of interest"
   ]
  },
  {
   "cell_type": "code",
   "execution_count": 17,
   "id": "3897fe82-1003-4b4a-867d-330d2709e572",
   "metadata": {},
   "outputs": [
    {
     "name": "stdout",
     "output_type": "stream",
     "text": [
      "Smallest val for tetrahymena (0.719900194803393) with MACCS & SVM\n",
      "Largest val for tetrahymena (0.8717199130216412) with RDKit & Shallow\n"
     ]
    }
   ],
   "source": [
    "data_set_of_interest = 'tetrahymena'\n",
    "\n",
    "min_val = performances[data_set_of_interest].min()\n",
    "i_, j_ = np.where(performances[data_set_of_interest]==min_val)\n",
    "i, j = i_[0], j_[0]\n",
    "print(f'Smallest val for {data_set_of_interest} ({min_val}) with {descriptor_names[i]} & {algorithm_names[j]}')\n",
    "\n",
    "max_val = performances[data_set_of_interest].max()\n",
    "i_, j_ = np.where(performances[data_set_of_interest]==max_val)\n",
    "i, j = i_[0], j_[0]\n",
    "print(f'Largest val for {data_set_of_interest} ({max_val}) with {descriptor_names[i]} & {algorithm_names[j]}')"
   ]
  },
  {
   "cell_type": "code",
   "execution_count": 18,
   "id": "9cac450f-5e11-4938-b725-0a029eb64c4c",
   "metadata": {},
   "outputs": [
    {
     "name": "stdout",
     "output_type": "stream",
     "text": [
      "Smallest val for MMP2 (-0.2314771828802657) with RDKit & Shallow\n",
      "Largest val for MMP2 (0.5775065130720165) with MFC & Shallow\n"
     ]
    }
   ],
   "source": [
    "data_set_of_interest = 'MMP2'\n",
    "\n",
    "min_val = performances[data_set_of_interest].min()\n",
    "i_, j_ = np.where(performances[data_set_of_interest]==min_val)\n",
    "i, j = i_[0], j_[0]\n",
    "print(f'Smallest val for {data_set_of_interest} ({min_val}) with {descriptor_names[i]} & {algorithm_names[j]}')\n",
    "\n",
    "max_val = performances[data_set_of_interest].max()\n",
    "i_, j_ = np.where(performances[data_set_of_interest]==max_val)\n",
    "i, j = i_[0], j_[0]\n",
    "print(f'Largest val for {data_set_of_interest} ({max_val}) with {descriptor_names[i]} & {algorithm_names[j]}')"
   ]
  },
  {
   "cell_type": "markdown",
   "id": "80d3d94a-13e2-46a8-8b61-cd8203ed07c3",
   "metadata": {},
   "source": [
    "### \"Success tables\""
   ]
  },
  {
   "cell_type": "code",
   "execution_count": 19,
   "id": "92824afa-1740-45b6-b23c-29f072ce9a44",
   "metadata": {},
   "outputs": [],
   "source": [
    "success_table = pd.DataFrame(np.zeros((len(descriptor_names), len(algorithm_names))), index=descriptor_names, columns=algorithm_names, dtype=int)\n",
    "fail_table = pd.DataFrame(np.zeros((len(descriptor_names), len(algorithm_names))), index=descriptor_names, columns=algorithm_names, dtype=int)\n",
    "\n",
    "best_dict = collections.Counter(best_combinations)\n",
    "worst_dict = collections.Counter(worst_combinations)\n",
    "\n",
    "for algorithm_name in algorithm_names:\n",
    "    for descriptor_name in descriptor_names:\n",
    "        lookup = f'{descriptor_name}, {algorithm_name}'\n",
    "        success_table[algorithm_name][descriptor_name] = best_dict[lookup]\n",
    "        fail_table[algorithm_name][descriptor_name] = worst_dict[lookup]"
   ]
  },
  {
   "cell_type": "markdown",
   "id": "adac3eaa-38a1-4a00-a513-421709b6e564",
   "metadata": {},
   "source": [
    "Plot and save"
   ]
  },
  {
   "cell_type": "code",
   "execution_count": 20,
   "id": "0b2ff36d-3c51-4b36-96be-c030bef86736",
   "metadata": {},
   "outputs": [
    {
     "data": {
      "image/png": "[encoded data removed]",
      "text/plain": [
       "<Figure size 500x400 with 1 Axes>"
      ]
     },
     "metadata": {
      "needs_background": "light"
     },
     "output_type": "display_data"
    }
   ],
   "source": [
    "fig, ax = plt.subplots(1, 1, figsize=(2.5, 2))\n",
    "im = heatmap(success_table.to_numpy(), descriptor_names, algorithm_names, ax=ax, cmap='YlGn', cbarlabel=None)\n",
    "texts = annotate_heatmap(im, valfmt=\"{x}\", inverse=True, threshold=7)\n",
    "im.set_clim(0, 12)\n",
    "ax.set_title(None, size=7)\n",
    "plt.savefig(PLOT_FOLDER+'summaries/r2_best.pdf', bbox_inches='tight', pad_inches=0.0)\n",
    "plt.show()"
   ]
  },
  {
   "cell_type": "code",
   "execution_count": 21,
   "id": "246e6b68-865d-4bd1-b7fd-452782e61c1c",
   "metadata": {},
   "outputs": [
    {
     "data": {
      "image/png": "[encoded data removed]",
      "text/plain": [
       "<Figure size 500x400 with 1 Axes>"
      ]
     },
     "metadata": {
      "needs_background": "light"
     },
     "output_type": "display_data"
    }
   ],
   "source": [
    "fig, ax = plt.subplots(1, 1, figsize=(2.5, 2))\n",
    "im = heatmap(fail_table.to_numpy(), descriptor_names, algorithm_names, ax=ax, cmap='YlOrRd', cbarlabel=None)\n",
    "texts = annotate_heatmap(im, valfmt=\"{x}\", threshold=0)\n",
    "im.set_clim(0, 35)\n",
    "ax.set_title(None, size=7)\n",
    "plt.savefig(PLOT_FOLDER+'summaries/r2_worst.pdf', bbox_inches='tight', pad_inches=0.0)\n",
    "plt.show()"
   ]
  },
  {
   "cell_type": "markdown",
   "id": "a0d8cdcb-a39c-4d0a-936c-bb278685bd84",
   "metadata": {},
   "source": [
    "### \"Rank sum tables\""
   ]
  },
  {
   "cell_type": "code",
   "execution_count": 46,
   "id": "f0354ec6-e682-4703-91fa-f6a94db98a07",
   "metadata": {},
   "outputs": [
    {
     "data": {
      "text/plain": [
       "array([[429, 294, 628, 571, 382],\n",
       "       [305, 150, 494, 296, 134],\n",
       "       [359, 221, 488, 382, 177],\n",
       "       [468, 323, 273, 232, 114]])"
      ]
     },
     "execution_count": 46,
     "metadata": {},
     "output_type": "execute_result"
    }
   ],
   "source": [
    "rank_sums = np.zeros((4, 5), dtype=int)\n",
    "\n",
    "for dataset_name in dataset_names:\n",
    "    order = performances[dataset_name].reshape((-1)).argsort()[::-1] \n",
    "    ranks = order.argsort() + 1\n",
    "    rank_sums += ranks.reshape((4, 5))\n",
    "    \n",
    "rank_sums"
   ]
  },
  {
   "cell_type": "code",
   "execution_count": 60,
   "id": "2594dca5-5f82-4949-b539-9547794c09d4",
   "metadata": {},
   "outputs": [
    {
     "data": {
      "image/png": "[encoded data removed]",
      "text/plain": [
       "<Figure size 500x400 with 1 Axes>"
      ]
     },
     "metadata": {
      "needs_background": "light"
     },
     "output_type": "display_data"
    }
   ],
   "source": [
    "fig, ax = plt.subplots(1, 1, figsize=(2.5, 2))\n",
    "im = heatmap(rank_sums, descriptor_names, algorithm_names, ax=ax, cmap='viridis_r', cbarlabel=None)\n",
    "texts = annotate_heatmap(im, valfmt=\"{x}\", inverse=True, threshold=400)\n",
    "plt.savefig(PLOT_FOLDER+'summaries/r2_rank_sums.pdf', bbox_inches='tight', pad_inches=0.0)\n",
    "plt.show()"
   ]
  }
 ],
 "metadata": {
  "kernelspec": {
   "display_name": "Python 3",
   "language": "python",
   "name": "python3"
  },
  "language_info": {
   "codemirror_mode": {
    "name": "ipython",
    "version": 3
   },
   "file_extension": ".py",
   "mimetype": "text/x-python",
   "name": "python",
   "nbconvert_exporter": "python",
   "pygments_lexer": "ipython3",
   "version": "3.8.8"
  }
 },
 "nbformat": 4,
 "nbformat_minor": 5
}
