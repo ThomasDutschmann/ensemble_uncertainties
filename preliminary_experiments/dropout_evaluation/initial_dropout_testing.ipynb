{
 "cells": [
  {
   "cell_type": "markdown",
   "id": "290f7cb7-7e60-4566-a1c5-ce9b45fefb8f",
   "metadata": {},
   "source": [
    "# Implement Dropout to Benchmark Ensemble Uncertainties Against"
   ]
  },
  {
   "cell_type": "markdown",
   "id": "0712b454-f517-4fe0-918b-91a79853e87a",
   "metadata": {},
   "source": [
    "<hr/>"
   ]
  },
  {
   "cell_type": "markdown",
   "id": "d0c72060-ea91-4942-8856-0d491ae4f024",
   "metadata": {},
   "source": [
    "## Prerequisites"
   ]
  },
  {
   "cell_type": "markdown",
   "id": "d3a7d0eb-9b7d-492f-899c-fbaea57b00cd",
   "metadata": {},
   "source": [
    "#### Imports"
   ]
  },
  {
   "cell_type": "code",
   "execution_count": null,
   "id": "a7aed8d7-9fcd-4ff7-a6b7-432ddee8060d",
   "metadata": {},
   "outputs": [],
   "source": [
    "import os\n",
    "\n",
    "import matplotlib as mpl\n",
    "import matplotlib.pyplot as plt\n",
    "\n",
    "import numpy as np\n",
    "import pandas as pd\n",
    "import tensorflow as tf\n",
    "\n",
    "from ensemble_uncertainties.model_library import models\n",
    "from ensemble_uncertainties.evaluators.evaluator_support import format_time_elapsed\n",
    "from ensemble_uncertainties.evaluators.regression_evaluator import RegressionEvaluator\n",
    "from ensemble_uncertainties.utils.ad_assessment import rmses_frac\n",
    "\n",
    "from tensorflow.keras.models import Sequential, Model\n",
    "from tensorflow.keras.layers import Input, Dense, Dropout\n",
    "from tensorflow.keras.wrappers.scikit_learn import KerasRegressor"
   ]
  },
  {
   "cell_type": "markdown",
   "id": "9a1419a3-a49c-4b62-8112-a6e1cb605ed8",
   "metadata": {},
   "source": [
    "#### Constants"
   ]
  },
  {
   "cell_type": "code",
   "execution_count": null,
   "id": "2d3e3e78-2f6f-4f24-aa44-22d03ac55837",
   "metadata": {},
   "outputs": [],
   "source": [
    "DROPOUT_RATE = .2\n",
    "PLOT_FOLDER = './plots/different_reps_regression_plots/'"
   ]
  },
  {
   "cell_type": "markdown",
   "id": "fde662f5-6c25-4344-aa5f-57e4aa1d62c5",
   "metadata": {},
   "source": [
    "#### Settings"
   ]
  },
  {
   "cell_type": "code",
   "execution_count": null,
   "id": "d291fc4c-74b5-4fae-bf71-29442e0c33d5",
   "metadata": {},
   "outputs": [],
   "source": [
    "mpl.rcParams['figure.dpi'] = 200\n",
    "os.environ['TF_DETERMINISTIC_OPS'] = '1'\n",
    "tf.random.set_seed(RANDOM_SEED)"
   ]
  },
  {
   "cell_type": "markdown",
   "id": "9f490f1b-8ae3-4e07-96fe-97d6b2ae8c8f",
   "metadata": {},
   "source": [
    "#### Functions"
   ]
  },
  {
   "cell_type": "code",
   "execution_count": null,
   "id": "e5c19a71-0b86-4b98-aef8-cb98913133a5",
   "metadata": {},
   "outputs": [],
   "source": [
    "def deep_architecture_dropout(output_activation, dropout_rate=.2):\n",
    "    \"\"\"Our default deep architecture for property prediction:\n",
    "\n",
    "    in | 256 ReLU | 128 ReLU | 16 ReLU | 1\n",
    "    \n",
    "    Additionally, dropout is performed in every layer.\n",
    "        \n",
    "    Parameters\n",
    "    ----------\n",
    "    output_activation : str\n",
    "        Name of the activation in the final neuron (tf.keras.activations)\n",
    "            \n",
    "    Returns\n",
    "    -------\n",
    "    function\n",
    "        A function that takes the number of variables\n",
    "        (int) and returns the (uncompiled) model\n",
    "    \"\"\"\n",
    "    in_dim = X.shape[1]\n",
    "    def make_model(n_vars):\n",
    "        # Create model. To apply dropout during inference,\n",
    "        # the functional format must be used:\n",
    "        inp = Input(shape=(in_dim,))\n",
    "        x = Dropout(dropout_rate)(inp)\n",
    "        x = Dense(256, activation='relu')(x)\n",
    "        x = Dropout(dropout_rate)(x, training=True)\n",
    "        x = Dense(128, activation='relu')(x)\n",
    "        x = Dropout(dropout_rate)(x, training=True)\n",
    "        x = Dense(16, activation='relu')(x)\n",
    "        x = Dropout(dropout_rate)(x, training=True)\n",
    "        out = Dense(1, activation=output_activation)(x)\n",
    "        model = Model(inp, out)\n",
    "        return model\n",
    "    return make_model\n",
    "\n",
    "\n",
    "def deep_architecture_dropout(output_activation):\n",
    "    \"\"\"Our default deep architecture for property prediction:\n",
    "\n",
    "    in | 256 ReLU | 128 ReLU | 16 ReLU | 1 \n",
    "        \n",
    "    Parameters\n",
    "    ----------\n",
    "    output_activation : str\n",
    "        Name of the activation in the final neuron (tf.keras.activations)\n",
    "            \n",
    "    Returns\n",
    "    -------\n",
    "    function\n",
    "        A function that takes the number of variables\n",
    "        (int) and returns the (uncompiled) model\n",
    "    \"\"\"\n",
    "    def make_model(n_vars):\n",
    "        model = Sequential()\n",
    "        model.add(Dense(256, input_shape=(n_vars,), activation='relu'))\n",
    "        model.add(Dense(128, activation='relu'))\n",
    "        model.add(Dense(16, activation='relu'))\n",
    "        model.add(Dense(1, activation=output_activation))\n",
    "        return model\n",
    "    return make_model"
   ]
  },
  {
   "cell_type": "code",
   "execution_count": null,
   "id": "c9b4197e-8849-4a2d-a69e-c59afab2db13",
   "metadata": {},
   "outputs": [],
   "source": []
  },
  {
   "cell_type": "code",
   "execution_count": null,
   "id": "b9eb975b-0f06-4d1f-96f5-de86cdf2fa89",
   "metadata": {},
   "outputs": [],
   "source": [
    "# Compile model\n",
    "model.compile(loss='mse', optimizer='adam', metrics=['mae', 'mse'])"
   ]
  }
 ],
 "metadata": {
  "kernelspec": {
   "display_name": "Python 3",
   "language": "python",
   "name": "python3"
  },
  "language_info": {
   "codemirror_mode": {
    "name": "ipython",
    "version": 3
   },
   "file_extension": ".py",
   "mimetype": "text/x-python",
   "name": "python",
   "nbconvert_exporter": "python",
   "pygments_lexer": "ipython3",
   "version": "3.8.8"
  }
 },
 "nbformat": 4,
 "nbformat_minor": 5
}
